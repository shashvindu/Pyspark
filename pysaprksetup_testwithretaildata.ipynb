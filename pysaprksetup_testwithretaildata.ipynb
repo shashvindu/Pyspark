{
  "nbformat": 4,
  "nbformat_minor": 0,
  "metadata": {
    "colab": {
      "provenance": [],
      "mount_file_id": "1xzpuwr6lHR1IePKG-OMumjW6decSMHRB",
      "authorship_tag": "ABX9TyN9C5fIX2synsYOp7y+Flbb",
      "include_colab_link": true
    },
    "kernelspec": {
      "name": "python3",
      "display_name": "Python 3"
    },
    "language_info": {
      "name": "python"
    }
  },
  "cells": [
    {
      "cell_type": "markdown",
      "metadata": {
        "id": "view-in-github",
        "colab_type": "text"
      },
      "source": [
        "<a href=\"https://colab.research.google.com/github/shashvindu/Pyspark/blob/main/pysaprksetup_testwithretaildata.ipynb\" target=\"_parent\"><img src=\"https://colab.research.google.com/assets/colab-badge.svg\" alt=\"Open In Colab\"/></a>"
      ]
    },
    {
      "cell_type": "code",
      "execution_count": 4,
      "metadata": {
        "id": "hQsRpZpXQDkz"
      },
      "outputs": [],
      "source": []
    },
    {
      "cell_type": "code",
      "source": [
        "from google.colab import drive\n",
        "drive.mount('/content/drive')"
      ],
      "metadata": {
        "colab": {
          "base_uri": "https://localhost:8080/"
        },
        "id": "p9I_EnOTQRed",
        "outputId": "6113f455-8951-4dd5-88d4-4a410ced0b78"
      },
      "execution_count": 5,
      "outputs": [
        {
          "output_type": "stream",
          "name": "stdout",
          "text": [
            "Drive already mounted at /content/drive; to attempt to forcibly remount, call drive.mount(\"/content/drive\", force_remount=True).\n"
          ]
        }
      ]
    },
    {
      "cell_type": "code",
      "source": [
        "#sc.stop()"
      ],
      "metadata": {
        "id": "tlqlLKrmjZ7x"
      },
      "execution_count": 6,
      "outputs": []
    },
    {
      "cell_type": "code",
      "source": [
        "'''!apt-get install openjdk-8-jdk-headless -qq > /dev/null\n",
        "!wget -q https://dlcdn.apache.org/spark/spark-3.3.0/spark-3.3.0-bin-hadoop3.tgz\n",
        "!tar xf spark-3.3.0-bin-hadoop3.tgz\n",
        "!pip install -q findspark\n",
        "!pip install pyspark  '''\n"
      ],
      "metadata": {
        "id": "1zCAPCuNQyc3",
        "colab": {
          "base_uri": "https://localhost:8080/",
          "height": 53
        },
        "outputId": "047ff2ee-3da3-4680-f466-08680f72b54a"
      },
      "execution_count": 7,
      "outputs": [
        {
          "output_type": "execute_result",
          "data": {
            "text/plain": [
              "'!apt-get install openjdk-8-jdk-headless -qq > /dev/null\\n!wget -q https://dlcdn.apache.org/spark/spark-3.3.0/spark-3.3.0-bin-hadoop3.tgz\\n!tar xf spark-3.3.0-bin-hadoop3.tgz\\n!pip install -q findspark\\n!pip install pyspark  '"
            ],
            "application/vnd.google.colaboratory.intrinsic+json": {
              "type": "string"
            }
          },
          "metadata": {},
          "execution_count": 7
        }
      ]
    },
    {
      "cell_type": "code",
      "source": [
        "#!wget -q https://dlcdn.apache.org/spark/spark-3.3.0/spark-3.3.0-bin-hadoop3.tgz"
      ],
      "metadata": {
        "id": "f8-Lw8-rTyO4"
      },
      "execution_count": 8,
      "outputs": []
    },
    {
      "cell_type": "code",
      "source": [],
      "metadata": {
        "id": "kmmBygZVT9L1"
      },
      "execution_count": 8,
      "outputs": []
    },
    {
      "cell_type": "code",
      "source": [],
      "metadata": {
        "id": "w281n5-nUN7S"
      },
      "execution_count": 8,
      "outputs": []
    },
    {
      "cell_type": "code",
      "source": [
        "from pyspark import SparkContext"
      ],
      "metadata": {
        "id": "oENtkY0DU5Je"
      },
      "execution_count": 9,
      "outputs": []
    },
    {
      "cell_type": "code",
      "source": [
        "sc=SparkContext()"
      ],
      "metadata": {
        "id": "uRVRThrMVvcD"
      },
      "execution_count": 10,
      "outputs": []
    },
    {
      "cell_type": "code",
      "source": [
        "a=sc.parallelize([1,2,3])"
      ],
      "metadata": {
        "id": "M8MmNGiBVjOQ"
      },
      "execution_count": 11,
      "outputs": []
    },
    {
      "cell_type": "code",
      "source": [
        "a.take(2)"
      ],
      "metadata": {
        "colab": {
          "base_uri": "https://localhost:8080/"
        },
        "id": "XmOJiLfsWXzu",
        "outputId": "3680506c-64c2-4547-c352-c8c6655b8dd0"
      },
      "execution_count": 12,
      "outputs": [
        {
          "output_type": "execute_result",
          "data": {
            "text/plain": [
              "[1, 2]"
            ]
          },
          "metadata": {},
          "execution_count": 12
        }
      ]
    },
    {
      "cell_type": "code",
      "source": [
        "sc.stop()"
      ],
      "metadata": {
        "id": "uc5nIFyuWi3Y"
      },
      "execution_count": 13,
      "outputs": []
    },
    {
      "cell_type": "code",
      "source": [
        "import findspark\n",
        "findspark.init()\n",
        "\n",
        "from pyspark.sql import SparkSession\n",
        "\n",
        "retails_data_csv = \"/content/drive/MyDrive/data/retail-data/by-day/*.csv\""
      ],
      "metadata": {
        "id": "UCQq5Kj1W-Cx"
      },
      "execution_count": 14,
      "outputs": []
    },
    {
      "cell_type": "code",
      "source": [
        "spark = SparkSession \\\n",
        "    .builder \\\n",
        "    .appName(\"Basic Dataframe Operations\") \\\n",
        "    .config(\"spark.master\", \"local\") \\\n",
        "    .getOrCreate()"
      ],
      "metadata": {
        "id": "eXHZBnchW9_U"
      },
      "execution_count": 15,
      "outputs": []
    },
    {
      "cell_type": "code",
      "source": [
        "df = spark.read.format(\"csv\")\\\n",
        "  .option(\"header\", \"true\")\\\n",
        "  .option(\"inferSchema\", \"true\")\\\n",
        "  .load(retails_data_csv)\\\n",
        "  .repartition(5)"
      ],
      "metadata": {
        "id": "fJ7uwjHnW9sV"
      },
      "execution_count": 16,
      "outputs": []
    },
    {
      "cell_type": "code",
      "source": [
        "df.show()"
      ],
      "metadata": {
        "colab": {
          "base_uri": "https://localhost:8080/"
        },
        "id": "ZPd57GXLXYvL",
        "outputId": "725bf67f-1dd7-46f3-f760-b1b313a9fa2e"
      },
      "execution_count": 17,
      "outputs": [
        {
          "output_type": "stream",
          "name": "stdout",
          "text": [
            "+---------+---------+--------------------+--------+-------------------+---------+----------+--------------+\n",
            "|InvoiceNo|StockCode|         Description|Quantity|        InvoiceDate|UnitPrice|CustomerID|       Country|\n",
            "+---------+---------+--------------------+--------+-------------------+---------+----------+--------------+\n",
            "|   580729|    22492|MINI PAINT SET VI...|       1|2011-12-05 17:24:00|     1.63|      null|United Kingdom|\n",
            "|   575070|    21756|BATH BUILDING BLO...|       1|2011-11-08 12:58:00|     6.25|   17841.0|United Kingdom|\n",
            "|   574573|    22945|CHRISTMAS METAL T...|       6|2011-11-04 16:35:00|     0.85|   14592.0|United Kingdom|\n",
            "|   575911|    35970|ZINC FOLKART SLEI...|      24|2011-11-11 16:13:00|     1.69|   17314.0|United Kingdom|\n",
            "|   576559|    22360|GLASS JAR ENGLISH...|       1|2011-11-15 13:19:00|     2.95|   14711.0|United Kingdom|\n",
            "|   569900|    35970|ZINC FOLKART SLEI...|      12|2011-10-06 16:17:00|     1.69|   17651.0|United Kingdom|\n",
            "|   539453|    21365|MIRRORED WALL ART...|       1|2010-12-17 17:08:00|     5.91|      null|United Kingdom|\n",
            "|   580959|    22419|    LIPSTICK PEN RED|      12|2011-12-06 14:31:00|     0.42|   14673.0|United Kingdom|\n",
            "|   578757|    20669|RED HEART LUGGAGE...|       1|2011-11-25 11:41:00|     1.25|   12748.0|United Kingdom|\n",
            "|   577938|    22975|SPACEBOY CHILDREN...|      12|2011-11-22 12:07:00|     1.25|   15525.0|United Kingdom|\n",
            "|   580543|    21165|BEWARE OF THE CAT...|      24|2011-12-05 09:11:00|     1.69|   18223.0|United Kingdom|\n",
            "|   580612|    22698|PINK REGENCY TEAC...|       7|2011-12-05 11:58:00|     5.79|      null|United Kingdom|\n",
            "|   575960|    23298|      SPOTTY BUNTING|       1|2011-11-13 12:28:00|     4.95|   15429.0|United Kingdom|\n",
            "|   537435|    22151|PLACE SETTING WHI...|      10|2010-12-06 16:58:00|     0.42|   17920.0|United Kingdom|\n",
            "|   576339|    23228|FILIGREE HEART BI...|       1|2011-11-14 15:27:00|     2.46|   14096.0|United Kingdom|\n",
            "|   578270|    20961|STRAWBERRY BATH S...|       3|2011-11-23 13:39:00|     2.46|   14096.0|United Kingdom|\n",
            "|   537240|    21169|YOU'RE CONFUSING ...|       2|2010-12-06 10:08:00|     4.21|      null|United Kingdom|\n",
            "|   579777|    21731|RED TOADSTOOL LED...|       3|2011-11-30 15:13:00|     3.29|      null|United Kingdom|\n",
            "|   578814|    22493|PAINT YOUR OWN CA...|       2|2011-11-25 13:40:00|     1.65|   12748.0|United Kingdom|\n",
            "|   576071|    22156|HEART DECORATION ...|       3|2011-11-13 16:03:00|     0.85|   18069.0|United Kingdom|\n",
            "+---------+---------+--------------------+--------+-------------------+---------+----------+--------------+\n",
            "only showing top 20 rows\n",
            "\n"
          ]
        }
      ]
    },
    {
      "cell_type": "code",
      "source": [
        "df.rdd.getNumPartitions()"
      ],
      "metadata": {
        "colab": {
          "base_uri": "https://localhost:8080/"
        },
        "id": "lV0ByxEEXYi_",
        "outputId": "a0f7422f-dba5-4370-d561-be2f994e4284"
      },
      "execution_count": 18,
      "outputs": [
        {
          "output_type": "execute_result",
          "data": {
            "text/plain": [
              "5"
            ]
          },
          "metadata": {},
          "execution_count": 18
        }
      ]
    },
    {
      "cell_type": "code",
      "source": [
        "#sql table\n",
        "df.createOrReplaceTempView(\"dfTable\")"
      ],
      "metadata": {
        "id": "QtoXTefzbVKR"
      },
      "execution_count": 19,
      "outputs": []
    },
    {
      "cell_type": "code",
      "source": [
        "from pyspark.sql.functions import count, countDistinct, approx_count_distinct\n",
        "df.select(count(\"StockCode\")).show()"
      ],
      "metadata": {
        "colab": {
          "base_uri": "https://localhost:8080/"
        },
        "id": "41Mu67o2Yuvs",
        "outputId": "193212c9-67f2-41c2-81e8-70e0d5e9a277"
      },
      "execution_count": 20,
      "outputs": [
        {
          "output_type": "stream",
          "name": "stdout",
          "text": [
            "+----------------+\n",
            "|count(StockCode)|\n",
            "+----------------+\n",
            "|          541909|\n",
            "+----------------+\n",
            "\n"
          ]
        }
      ]
    },
    {
      "cell_type": "code",
      "source": [
        "df.groupBy(\"StockCode\").count().show()"
      ],
      "metadata": {
        "colab": {
          "base_uri": "https://localhost:8080/"
        },
        "id": "WpbVEbsfYulp",
        "outputId": "b04edef4-71d4-41df-accf-82db494a7126"
      },
      "execution_count": 21,
      "outputs": [
        {
          "output_type": "stream",
          "name": "stdout",
          "text": [
            "+---------+-----+\n",
            "|StockCode|count|\n",
            "+---------+-----+\n",
            "|    22596|  274|\n",
            "|    21249|  119|\n",
            "|    21894|  135|\n",
            "|    22121|  141|\n",
            "|    23318|  391|\n",
            "|    20868|   46|\n",
            "|    22728|  810|\n",
            "|    23459|   21|\n",
            "|    90022|   21|\n",
            "|    22254|   61|\n",
            "|    21259|  296|\n",
            "|    21452|  200|\n",
            "|   90210B|    7|\n",
            "|    90143|   22|\n",
            "|   90197B|   27|\n",
            "|    21248|   68|\n",
            "|    21889|  607|\n",
            "|   85132b|    9|\n",
            "|    21331|    8|\n",
            "|   85115B|    1|\n",
            "+---------+-----+\n",
            "only showing top 20 rows\n",
            "\n"
          ]
        }
      ]
    },
    {
      "cell_type": "code",
      "source": [
        "df.select(countDistinct(\"StockCode\")).show()"
      ],
      "metadata": {
        "colab": {
          "base_uri": "https://localhost:8080/"
        },
        "id": "3fGKDTqKYujP",
        "outputId": "63da67c3-8d03-4d98-ca6f-e3d78da81d48"
      },
      "execution_count": 22,
      "outputs": [
        {
          "output_type": "stream",
          "name": "stdout",
          "text": [
            "+-------------------------+\n",
            "|count(DISTINCT StockCode)|\n",
            "+-------------------------+\n",
            "|                     4070|\n",
            "+-------------------------+\n",
            "\n"
          ]
        }
      ]
    },
    {
      "cell_type": "code",
      "source": [
        "df.select(approx_count_distinct(\"StockCode\", 0.1)).show()"
      ],
      "metadata": {
        "colab": {
          "base_uri": "https://localhost:8080/"
        },
        "id": "oeKVBHxtYugz",
        "outputId": "581676b5-29ca-473b-a7b7-e53ae4d1a852"
      },
      "execution_count": 23,
      "outputs": [
        {
          "output_type": "stream",
          "name": "stdout",
          "text": [
            "+--------------------------------+\n",
            "|approx_count_distinct(StockCode)|\n",
            "+--------------------------------+\n",
            "|                            3364|\n",
            "+--------------------------------+\n",
            "\n"
          ]
        }
      ]
    },
    {
      "cell_type": "code",
      "source": [
        "spark.sql(\"\"\"SELECT count(StockCode),\n",
        "                    approx_count_distinct(StockCode)\n",
        "             FROM dfTable\"\"\").show()"
      ],
      "metadata": {
        "colab": {
          "base_uri": "https://localhost:8080/"
        },
        "id": "IcskLMa_YueD",
        "outputId": "67fa92a7-283f-4dc7-acdc-c783b29c1882"
      },
      "execution_count": 24,
      "outputs": [
        {
          "output_type": "stream",
          "name": "stdout",
          "text": [
            "+----------------+--------------------------------+\n",
            "|count(StockCode)|approx_count_distinct(StockCode)|\n",
            "+----------------+--------------------------------+\n",
            "|          541909|                            3804|\n",
            "+----------------+--------------------------------+\n",
            "\n"
          ]
        }
      ]
    },
    {
      "cell_type": "code",
      "source": [
        "sqlc=\"SELECT count(StockCode), approx_count_distinct(StockCode)  FROM dfTable\"\n",
        "spark.sql(sqlc).show()"
      ],
      "metadata": {
        "colab": {
          "base_uri": "https://localhost:8080/"
        },
        "id": "S4fLEMtrYuax",
        "outputId": "66f29393-728b-41c0-f1e8-1400360252d6"
      },
      "execution_count": 25,
      "outputs": [
        {
          "output_type": "stream",
          "name": "stdout",
          "text": [
            "+----------------+--------------------------------+\n",
            "|count(StockCode)|approx_count_distinct(StockCode)|\n",
            "+----------------+--------------------------------+\n",
            "|          541909|                            3804|\n",
            "+----------------+--------------------------------+\n",
            "\n"
          ]
        }
      ]
    },
    {
      "cell_type": "code",
      "source": [
        "#  Example 2 - first, last, min, max\n",
        "from pyspark.sql.functions import first, last, min, max"
      ],
      "metadata": {
        "id": "3dJ8EuAMbhgS"
      },
      "execution_count": 26,
      "outputs": []
    },
    {
      "cell_type": "code",
      "source": [
        "df.select(first(\"StockCode\"), last(\"StockCode\")).show()"
      ],
      "metadata": {
        "colab": {
          "base_uri": "https://localhost:8080/"
        },
        "id": "X8kfT3kucTwY",
        "outputId": "aebecd0c-e0f1-4078-e18b-08714e6fec0d"
      },
      "execution_count": 27,
      "outputs": [
        {
          "output_type": "stream",
          "name": "stdout",
          "text": [
            "+----------------+---------------+\n",
            "|first(StockCode)|last(StockCode)|\n",
            "+----------------+---------------+\n",
            "|           22148|          21201|\n",
            "+----------------+---------------+\n",
            "\n"
          ]
        }
      ]
    },
    {
      "cell_type": "code",
      "source": [
        "df.select(min(\"Quantity\"), max(\"Quantity\")).show()"
      ],
      "metadata": {
        "colab": {
          "base_uri": "https://localhost:8080/"
        },
        "id": "0kRPZWlhcmaV",
        "outputId": "1ff6519c-9321-4bc7-b548-02f195f578a2"
      },
      "execution_count": 28,
      "outputs": [
        {
          "output_type": "stream",
          "name": "stdout",
          "text": [
            "+-------------+-------------+\n",
            "|min(Quantity)|max(Quantity)|\n",
            "+-------------+-------------+\n",
            "|       -80995|        80995|\n",
            "+-------------+-------------+\n",
            "\n"
          ]
        }
      ]
    },
    {
      "cell_type": "code",
      "source": [
        "spark.sql(\"\"\"SELECT first(StockCode) as first, \n",
        "                    last(StockCode) as last,\n",
        "                    min(Quantity)  as minQty,\n",
        "                    max(Quantity) as maxQty\n",
        "             FROM dfTable\"\"\").show()"
      ],
      "metadata": {
        "colab": {
          "base_uri": "https://localhost:8080/"
        },
        "id": "D8yr6iZ2cvMr",
        "outputId": "274c1696-4b87-46e6-a89b-5f4e4727f8ba"
      },
      "execution_count": 29,
      "outputs": [
        {
          "output_type": "stream",
          "name": "stdout",
          "text": [
            "+-----+-----+------+------+\n",
            "|first| last|minQty|maxQty|\n",
            "+-----+-----+------+------+\n",
            "|22578|22641|-80995| 80995|\n",
            "+-----+-----+------+------+\n",
            "\n"
          ]
        }
      ]
    },
    {
      "cell_type": "code",
      "source": [
        "#  Example 3 - sum, sumDistinct, avg\n",
        "from pyspark.sql.functions import sum, sumDistinct, avg"
      ],
      "metadata": {
        "id": "38_2wEn9c0av"
      },
      "execution_count": 30,
      "outputs": []
    },
    {
      "cell_type": "code",
      "source": [
        "df.select(sum(\"Quantity\")).show() "
      ],
      "metadata": {
        "colab": {
          "base_uri": "https://localhost:8080/"
        },
        "id": "rz1PokJedacO",
        "outputId": "f0de34c1-7627-4f10-bef5-c2949ec9f2e0"
      },
      "execution_count": 31,
      "outputs": [
        {
          "output_type": "stream",
          "name": "stdout",
          "text": [
            "+-------------+\n",
            "|sum(Quantity)|\n",
            "+-------------+\n",
            "|      5176450|\n",
            "+-------------+\n",
            "\n"
          ]
        }
      ]
    },
    {
      "cell_type": "code",
      "source": [
        "df.select(sumDistinct(\"Quantity\")).show()"
      ],
      "metadata": {
        "colab": {
          "base_uri": "https://localhost:8080/"
        },
        "id": "C2nkIfDDdmLA",
        "outputId": "890f2880-c15e-49b3-df65-0723f4c2fc59"
      },
      "execution_count": 32,
      "outputs": [
        {
          "output_type": "stream",
          "name": "stderr",
          "text": [
            "/usr/local/lib/python3.7/dist-packages/pyspark/sql/functions.py:315: FutureWarning: Deprecated in 3.2, use sum_distinct instead.\n",
            "  warnings.warn(\"Deprecated in 3.2, use sum_distinct instead.\", FutureWarning)\n"
          ]
        },
        {
          "output_type": "stream",
          "name": "stdout",
          "text": [
            "+----------------------+\n",
            "|sum(DISTINCT Quantity)|\n",
            "+----------------------+\n",
            "|                 29310|\n",
            "+----------------------+\n",
            "\n"
          ]
        }
      ]
    },
    {
      "cell_type": "code",
      "source": [
        "spark.sql(\"\"\"SELECT sum(Quantity)  as sumQty, \n",
        "                    mean(Quantity) as mean\n",
        "             FROM dfTable\"\"\").show() "
      ],
      "metadata": {
        "colab": {
          "base_uri": "https://localhost:8080/"
        },
        "id": "YJEaWz5-dmHa",
        "outputId": "30b71c04-4ac4-47db-a75f-477a34bf36b7"
      },
      "execution_count": 33,
      "outputs": [
        {
          "output_type": "stream",
          "name": "stdout",
          "text": [
            "+-------+----------------+\n",
            "| sumQty|            mean|\n",
            "+-------+----------------+\n",
            "|5176450|9.55224954743324|\n",
            "+-------+----------------+\n",
            "\n"
          ]
        }
      ]
    },
    {
      "cell_type": "code",
      "source": [
        "from pyspark.sql.functions import mean, expr "
      ],
      "metadata": {
        "id": "CwZCzVm8dmDq"
      },
      "execution_count": 34,
      "outputs": []
    },
    {
      "cell_type": "code",
      "source": [
        "df.select(\n",
        "  count(\"Quantity\").alias(\"total_transactions\"),\n",
        "  sum(\"Quantity\").alias(\"total_purchases\"),\n",
        "  avg(\"Quantity\").alias(\"avg_purchases\"),\n",
        "  expr(\"mean(Quantity)\").alias(\"mean_purchases\")) \\\n",
        ".selectExpr(\n",
        "  \"total_purchases/total_transactions\",\n",
        "  \"avg_purchases\",\n",
        "  \"mean_purchases\").show()"
      ],
      "metadata": {
        "id": "UMd2xY2rdl-3",
        "colab": {
          "base_uri": "https://localhost:8080/"
        },
        "outputId": "ea970de1-86ed-4080-c9dc-2cb2b7f53443"
      },
      "execution_count": 35,
      "outputs": [
        {
          "output_type": "stream",
          "name": "stdout",
          "text": [
            "+--------------------------------------+----------------+----------------+\n",
            "|(total_purchases / total_transactions)|   avg_purchases|  mean_purchases|\n",
            "+--------------------------------------+----------------+----------------+\n",
            "|                      9.55224954743324|9.55224954743324|9.55224954743324|\n",
            "+--------------------------------------+----------------+----------------+\n",
            "\n"
          ]
        }
      ]
    },
    {
      "cell_type": "code",
      "source": [
        "# Example 4 - varience and standard deviation\n",
        "from pyspark.sql.functions import var_pop, stddev_pop, variance, stddev\n",
        "from pyspark.sql.functions import var_samp, stddev_samp"
      ],
      "metadata": {
        "id": "X7Ky4Rbfdl8k"
      },
      "execution_count": 36,
      "outputs": []
    },
    {
      "cell_type": "code",
      "source": [
        "df.select(variance(\"Quantity\"), stddev(\"Quantity\"),\n",
        "  var_pop(\"Quantity\"), var_samp(\"Quantity\"),\n",
        "  stddev_pop(\"Quantity\"), stddev_samp(\"Quantity\")).show()"
      ],
      "metadata": {
        "id": "nDfuJ0aZdl6I",
        "colab": {
          "base_uri": "https://localhost:8080/"
        },
        "outputId": "c93f7dc7-6e3f-4dd2-89cb-2d90147b912e"
      },
      "execution_count": 37,
      "outputs": [
        {
          "output_type": "stream",
          "name": "stdout",
          "text": [
            "+------------------+---------------------+-----------------+------------------+--------------------+---------------------+\n",
            "|var_samp(Quantity)|stddev_samp(Quantity)|var_pop(Quantity)|var_samp(Quantity)|stddev_pop(Quantity)|stddev_samp(Quantity)|\n",
            "+------------------+---------------------+-----------------+------------------+--------------------+---------------------+\n",
            "| 47559.39140929852|   218.08115785023364|47559.30364660883| 47559.39140929852|  218.08095663447745|   218.08115785023364|\n",
            "+------------------+---------------------+-----------------+------------------+--------------------+---------------------+\n",
            "\n"
          ]
        }
      ]
    },
    {
      "cell_type": "code",
      "source": [
        "spark.sql(\"\"\"SELECT var_pop(Quantity), \n",
        "                    var_samp(Quantity),\n",
        "                    stddev_pop(Quantity), \n",
        "                    stddev_samp(Quantity)\n",
        "             FROM dfTable\"\"\").show()"
      ],
      "metadata": {
        "id": "TUMdRVrwdl33",
        "colab": {
          "base_uri": "https://localhost:8080/"
        },
        "outputId": "4bbccc4e-19c2-4b39-d8d9-f418d8003e30"
      },
      "execution_count": 38,
      "outputs": [
        {
          "output_type": "stream",
          "name": "stdout",
          "text": [
            "+-----------------+------------------+--------------------+---------------------+\n",
            "|var_pop(Quantity)|var_samp(Quantity)|stddev_pop(Quantity)|stddev_samp(Quantity)|\n",
            "+-----------------+------------------+--------------------+---------------------+\n",
            "|47559.30364660883| 47559.39140929852|  218.08095663447745|   218.08115785023364|\n",
            "+-----------------+------------------+--------------------+---------------------+\n",
            "\n"
          ]
        }
      ]
    },
    {
      "cell_type": "code",
      "source": [
        "# Example 5 - skewness & kurtosis\n",
        "from pyspark.sql.functions import skewness, kurtosis"
      ],
      "metadata": {
        "id": "DdvZy6cfdl1k"
      },
      "execution_count": 39,
      "outputs": []
    },
    {
      "cell_type": "code",
      "source": [
        "df.select(skewness(\"Quantity\"), kurtosis(\"Quantity\")).show()  "
      ],
      "metadata": {
        "id": "2ZbL_MIjdly8",
        "colab": {
          "base_uri": "https://localhost:8080/"
        },
        "outputId": "7d0dfab3-b6a9-46c2-8105-58d998a8fadf"
      },
      "execution_count": 40,
      "outputs": [
        {
          "output_type": "stream",
          "name": "stdout",
          "text": [
            "+--------------------+------------------+\n",
            "|  skewness(Quantity)|kurtosis(Quantity)|\n",
            "+--------------------+------------------+\n",
            "|-0.26407557610430366|119768.05495533711|\n",
            "+--------------------+------------------+\n",
            "\n"
          ]
        }
      ]
    },
    {
      "cell_type": "code",
      "source": [
        "spark.sql(\"SELECT skewness(Quantity), kurtosis(Quantity) FROM dfTable\").show()"
      ],
      "metadata": {
        "id": "DkahG2xqdlwW",
        "colab": {
          "base_uri": "https://localhost:8080/"
        },
        "outputId": "85b79e8a-4b6e-4edf-934b-1376921d2dc8"
      },
      "execution_count": 41,
      "outputs": [
        {
          "output_type": "stream",
          "name": "stdout",
          "text": [
            "+--------------------+------------------+\n",
            "|  skewness(Quantity)|kurtosis(Quantity)|\n",
            "+--------------------+------------------+\n",
            "|-0.26407557610430366|119768.05495533711|\n",
            "+--------------------+------------------+\n",
            "\n"
          ]
        }
      ]
    },
    {
      "cell_type": "code",
      "source": [
        "# Example 6 - Covariance and Correlation\n",
        "from pyspark.sql.functions import corr, covar_pop, covar_samp"
      ],
      "metadata": {
        "id": "K_iAH_QwdluC"
      },
      "execution_count": 42,
      "outputs": []
    },
    {
      "cell_type": "code",
      "source": [
        "df.select(corr(\"InvoiceNo\", \"Quantity\"), covar_samp(\"InvoiceNo\", \"Quantity\"),\n",
        "    covar_pop(\"InvoiceNo\", \"Quantity\")).show()"
      ],
      "metadata": {
        "id": "sK7IUXSxdlrH",
        "colab": {
          "base_uri": "https://localhost:8080/"
        },
        "outputId": "cc15e945-d0aa-4747-b9ef-efa71dfa3fc9"
      },
      "execution_count": 43,
      "outputs": [
        {
          "output_type": "stream",
          "name": "stdout",
          "text": [
            "+-------------------------+-------------------------------+------------------------------+\n",
            "|corr(InvoiceNo, Quantity)|covar_samp(InvoiceNo, Quantity)|covar_pop(InvoiceNo, Quantity)|\n",
            "+-------------------------+-------------------------------+------------------------------+\n",
            "|     4.912186085633174E-4|             1052.7280543896418|            1052.7260778735376|\n",
            "+-------------------------+-------------------------------+------------------------------+\n",
            "\n"
          ]
        }
      ]
    },
    {
      "cell_type": "code",
      "source": [
        "spark.sql(\"\"\"SELECT corr(InvoiceNo, Quantity), \n",
        "                        covar_samp(InvoiceNo, Quantity),\n",
        "                        covar_pop(InvoiceNo, Quantity)\n",
        "                  FROM dfTable\"\"\").show()"
      ],
      "metadata": {
        "id": "VExfqsCRdlom",
        "colab": {
          "base_uri": "https://localhost:8080/"
        },
        "outputId": "3255a0b5-43a2-45d3-f7b1-e0af532bc959"
      },
      "execution_count": 44,
      "outputs": [
        {
          "output_type": "stream",
          "name": "stdout",
          "text": [
            "+-------------------------+-------------------------------+------------------------------+\n",
            "|corr(InvoiceNo, Quantity)|covar_samp(InvoiceNo, Quantity)|covar_pop(InvoiceNo, Quantity)|\n",
            "+-------------------------+-------------------------------+------------------------------+\n",
            "|     4.912186085633174E-4|             1052.7280543896418|            1052.7260778735376|\n",
            "+-------------------------+-------------------------------+------------------------------+\n",
            "\n"
          ]
        }
      ]
    },
    {
      "cell_type": "code",
      "source": [
        "#- Example 7 - Aggregation on Collections\n",
        "from pyspark.sql.functions import collect_set, collect_list"
      ],
      "metadata": {
        "id": "rsi9JXW6dlmO"
      },
      "execution_count": 45,
      "outputs": []
    },
    {
      "cell_type": "code",
      "source": [
        "\n",
        "df.agg(collect_set(\"Country\"), collect_list(\"Country\")).show()"
      ],
      "metadata": {
        "id": "JecDY4Pydljk",
        "colab": {
          "base_uri": "https://localhost:8080/"
        },
        "outputId": "48bcf32f-1384-4a0a-9d9a-8e5a359d2118"
      },
      "execution_count": 46,
      "outputs": [
        {
          "output_type": "stream",
          "name": "stdout",
          "text": [
            "+--------------------+---------------------+\n",
            "|collect_set(Country)|collect_list(Country)|\n",
            "+--------------------+---------------------+\n",
            "|[Portugal, Italy,...| [Switzerland, Swi...|\n",
            "+--------------------+---------------------+\n",
            "\n"
          ]
        }
      ]
    },
    {
      "cell_type": "code",
      "source": [
        "spark.sql(\"SELECT collect_set(Country), collect_list(Country) FROM dfTable\") \\\n",
        "     .show()"
      ],
      "metadata": {
        "id": "nbzAXhwUdlhB",
        "colab": {
          "base_uri": "https://localhost:8080/"
        },
        "outputId": "843375f2-4fd4-443e-bfe2-afce35c70a0f"
      },
      "execution_count": 47,
      "outputs": [
        {
          "output_type": "stream",
          "name": "stdout",
          "text": [
            "+--------------------+---------------------+\n",
            "|collect_set(Country)|collect_list(Country)|\n",
            "+--------------------+---------------------+\n",
            "|[Portugal, Italy,...| [Switzerland, Swi...|\n",
            "+--------------------+---------------------+\n",
            "\n"
          ]
        }
      ]
    },
    {
      "cell_type": "code",
      "source": [
        "#  Example 8 - Grouping\n",
        "from pyspark.sql.functions import count, sum\n",
        "df.groupBy(\"InvoiceNo\", \"CustomerId\").count().show()"
      ],
      "metadata": {
        "id": "LvqaLDxWdlen",
        "colab": {
          "base_uri": "https://localhost:8080/"
        },
        "outputId": "b5507be0-e74c-4c6e-a016-ac9b35a7add1"
      },
      "execution_count": 48,
      "outputs": [
        {
          "output_type": "stream",
          "name": "stdout",
          "text": [
            "+---------+----------+-----+\n",
            "|InvoiceNo|CustomerId|count|\n",
            "+---------+----------+-----+\n",
            "|   575753|   17841.0|   80|\n",
            "|   580657|   14696.0|   20|\n",
            "|   581474|   12748.0|   24|\n",
            "|   570413|   17652.0|   18|\n",
            "|   579062|   17651.0|   16|\n",
            "|   576357|   15660.0|   18|\n",
            "|  C579018|   16678.0|    1|\n",
            "|   576641|   17549.0|    4|\n",
            "|   580090|   13323.0|    5|\n",
            "|   577338|   17650.0|    8|\n",
            "|   574138|   12415.0|    5|\n",
            "|   577783|   18139.0|   35|\n",
            "|   581020|   17511.0|   40|\n",
            "|   572703|   16110.0|  154|\n",
            "|  C538084|   12649.0|    2|\n",
            "|   568895|   15356.0|   54|\n",
            "|  C577375|   14441.0|    2|\n",
            "|   568670|   14978.0|   38|\n",
            "|   580138|   13199.0|    3|\n",
            "|   575220|   17511.0|   14|\n",
            "+---------+----------+-----+\n",
            "only showing top 20 rows\n",
            "\n"
          ]
        }
      ]
    },
    {
      "cell_type": "code",
      "source": [
        "df.groupBy(\"InvoiceNo\").agg(\n",
        "    count(\"Quantity\").alias(\"quan\"),\n",
        "    expr(\"count(Quantity)\"))\\\n",
        "   .show()"
      ],
      "metadata": {
        "id": "LBTCxx3Mdlbm",
        "colab": {
          "base_uri": "https://localhost:8080/"
        },
        "outputId": "633a1a00-6111-412f-bebd-e4097f5dc450"
      },
      "execution_count": 49,
      "outputs": [
        {
          "output_type": "stream",
          "name": "stdout",
          "text": [
            "+---------+----+---------------+\n",
            "|InvoiceNo|quan|count(Quantity)|\n",
            "+---------+----+---------------+\n",
            "|   575961|  13|             13|\n",
            "|   575671|  20|             20|\n",
            "|   577511|  46|             46|\n",
            "|   576059|  44|             44|\n",
            "|   550469|  31|             31|\n",
            "|   577022|  38|             38|\n",
            "|   576112|  20|             20|\n",
            "|   569823|  69|             69|\n",
            "|   578292|  72|             72|\n",
            "|   575091|  38|             38|\n",
            "|   577541|  21|             21|\n",
            "|   536596|   6|              6|\n",
            "|   574592|   8|              8|\n",
            "|   578057|  28|             28|\n",
            "|   578459|   8|              8|\n",
            "|   580906|   4|              4|\n",
            "|   567695|   1|              1|\n",
            "|   537252|   1|              1|\n",
            "|   570281|   3|              3|\n",
            "|   570264|   1|              1|\n",
            "+---------+----+---------------+\n",
            "only showing top 20 rows\n",
            "\n"
          ]
        }
      ]
    },
    {
      "cell_type": "code",
      "source": [
        "df.groupBy(\"InvoiceNo\").agg(\n",
        "    expr(\"avg(Quantity)\"),expr(\"sum(Quantity)\"),expr(\"stddev_pop(Quantity)\"))\\\n",
        "  .show()"
      ],
      "metadata": {
        "id": "1rU2ub0ldlZD",
        "colab": {
          "base_uri": "https://localhost:8080/"
        },
        "outputId": "cef1cfdf-7051-4079-98d0-47c64f3dd974"
      },
      "execution_count": 50,
      "outputs": [
        {
          "output_type": "stream",
          "name": "stdout",
          "text": [
            "+---------+------------------+-------------+--------------------+\n",
            "|InvoiceNo|     avg(Quantity)|sum(Quantity)|stddev_pop(Quantity)|\n",
            "+---------+------------------+-------------+--------------------+\n",
            "|   575961| 2.769230769230769|           36|  1.5268794800984007|\n",
            "|   575671|             16.65|          333|  12.141972656862638|\n",
            "|   577511|3.1739130434782608|          146|   5.402512892872719|\n",
            "|   576059|2.8181818181818183|          124|   5.223516436936151|\n",
            "|   550469| 5.129032258064516|          159|   8.838121007003883|\n",
            "|   577022| 5.131578947368421|          195|  2.9034557688489158|\n",
            "|   576112|              10.9|          218|   7.495998932764064|\n",
            "|   569823|1.4782608695652173|          102|  0.9869980199409519|\n",
            "|   578292| 5.902777777777778|          425|    8.75937548861888|\n",
            "|   575091|11.552631578947368|          439|   5.008925551458656|\n",
            "|   577541| 9.333333333333334|          196|    9.18245393767158|\n",
            "|   536596|               1.5|            9|   1.118033988749895|\n",
            "|   574592|              7.25|           58|  4.4651427748729375|\n",
            "|   578057| 4.607142857142857|          129|   8.755974636597271|\n",
            "|   578459|              28.0|          224|  25.999999999999996|\n",
            "|   580906|              27.0|          108|  13.076696830622021|\n",
            "|   567695|             -42.0|          -42|                 0.0|\n",
            "|   537252|              31.0|           31|                 0.0|\n",
            "|   570281|              48.0|          144|                 0.0|\n",
            "|   570264|             -22.0|          -22|                 0.0|\n",
            "+---------+------------------+-------------+--------------------+\n",
            "only showing top 20 rows\n",
            "\n"
          ]
        }
      ]
    },
    {
      "cell_type": "code",
      "source": [
        "from pyspark.sql.functions import col, to_date"
      ],
      "metadata": {
        "id": "-AGsMi0DdlWj"
      },
      "execution_count": 51,
      "outputs": []
    },
    {
      "cell_type": "code",
      "source": [
        "dfWithDate = df.withColumn(\"date\", to_date(col(\"InvoiceDate\"), \"MM/d/yyyy H:mm\"))"
      ],
      "metadata": {
        "id": "nCiIFLCIdlT2"
      },
      "execution_count": 52,
      "outputs": []
    },
    {
      "cell_type": "code",
      "source": [
        "dfWithDate.createOrReplaceTempView(\"dfWithDate\")\n",
        "spark.sql(\"SELECT InvoiceDate, date FROM dfWithDate\").show()"
      ],
      "metadata": {
        "id": "qlA97dW3dlPs",
        "colab": {
          "base_uri": "https://localhost:8080/"
        },
        "outputId": "a509b218-58f1-4322-d2e5-70c4a7d87adf"
      },
      "execution_count": 53,
      "outputs": [
        {
          "output_type": "stream",
          "name": "stdout",
          "text": [
            "+-------------------+----------+\n",
            "|        InvoiceDate|      date|\n",
            "+-------------------+----------+\n",
            "|2010-12-01 16:15:00|2010-12-01|\n",
            "|2011-12-08 15:49:00|2011-12-08|\n",
            "|2011-12-08 15:49:00|2011-12-08|\n",
            "|2011-11-11 12:02:00|2011-11-11|\n",
            "|2011-11-11 12:02:00|2011-11-11|\n",
            "|2011-11-11 12:02:00|2011-11-11|\n",
            "|2011-11-11 12:02:00|2011-11-11|\n",
            "|2011-11-11 12:02:00|2011-11-11|\n",
            "|2011-11-11 12:02:00|2011-11-11|\n",
            "|2011-11-11 12:02:00|2011-11-11|\n",
            "|2011-11-23 10:23:00|2011-11-23|\n",
            "|2011-11-23 10:23:00|2011-11-23|\n",
            "|2011-11-23 10:23:00|2011-11-23|\n",
            "|2011-11-23 10:23:00|2011-11-23|\n",
            "|2011-11-30 12:16:00|2011-11-30|\n",
            "|2011-11-30 12:16:00|2011-11-30|\n",
            "|2011-11-30 12:16:00|2011-11-30|\n",
            "|2011-11-30 12:16:00|2011-11-30|\n",
            "|2011-11-30 12:16:00|2011-11-30|\n",
            "|2011-11-30 12:16:00|2011-11-30|\n",
            "+-------------------+----------+\n",
            "only showing top 20 rows\n",
            "\n"
          ]
        }
      ]
    },
    {
      "cell_type": "code",
      "source": [
        "spark.stop()"
      ],
      "metadata": {
        "id": "qecM-HPgdlNP"
      },
      "execution_count": 55,
      "outputs": []
    },
    {
      "cell_type": "code",
      "source": [],
      "metadata": {
        "id": "vphF4zQAdlJD"
      },
      "execution_count": null,
      "outputs": []
    },
    {
      "cell_type": "code",
      "source": [],
      "metadata": {
        "id": "HFyf8byGdlDo"
      },
      "execution_count": null,
      "outputs": []
    },
    {
      "cell_type": "code",
      "source": [],
      "metadata": {
        "id": "5afl0L4udk7z"
      },
      "execution_count": null,
      "outputs": []
    },
    {
      "cell_type": "code",
      "source": [],
      "metadata": {
        "id": "B_k3X4_idkwM"
      },
      "execution_count": null,
      "outputs": []
    },
    {
      "cell_type": "code",
      "source": [],
      "metadata": {
        "id": "Dp1ghzX8dkde"
      },
      "execution_count": null,
      "outputs": []
    },
    {
      "cell_type": "code",
      "source": [],
      "metadata": {
        "id": "pSJd6-ZrdkIq"
      },
      "execution_count": null,
      "outputs": []
    },
    {
      "cell_type": "code",
      "source": [],
      "metadata": {
        "id": "Hd9Ik59QdkFO"
      },
      "execution_count": null,
      "outputs": []
    }
  ]
}