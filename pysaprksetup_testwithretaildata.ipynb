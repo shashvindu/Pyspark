{
  "nbformat": 4,
  "nbformat_minor": 0,
  "metadata": {
    "colab": {
      "provenance": [],
      "mount_file_id": "1xzpuwr6lHR1IePKG-OMumjW6decSMHRB",
      "authorship_tag": "ABX9TyOPoE1JRT3eg77SPSsB1jgS",
      "include_colab_link": true
    },
    "kernelspec": {
      "name": "python3",
      "display_name": "Python 3"
    },
    "language_info": {
      "name": "python"
    }
  },
  "cells": [
    {
      "cell_type": "markdown",
      "metadata": {
        "id": "view-in-github",
        "colab_type": "text"
      },
      "source": [
        "<a href=\"https://colab.research.google.com/github/shashvindu/Pyspark/blob/main/pysaprksetup_testwithretaildata.ipynb\" target=\"_parent\"><img src=\"https://colab.research.google.com/assets/colab-badge.svg\" alt=\"Open In Colab\"/></a>"
      ]
    },
    {
      "cell_type": "code",
      "execution_count": null,
      "metadata": {
        "id": "hQsRpZpXQDkz"
      },
      "outputs": [],
      "source": []
    },
    {
      "cell_type": "code",
      "source": [
        "from google.colab import drive\n",
        "drive.mount('/content/drive')"
      ],
      "metadata": {
        "colab": {
          "base_uri": "https://localhost:8080/"
        },
        "id": "p9I_EnOTQRed",
        "outputId": "84f59eda-93ee-47d4-f58a-ab21d15a19a3"
      },
      "execution_count": 1,
      "outputs": [
        {
          "output_type": "stream",
          "name": "stdout",
          "text": [
            "Drive already mounted at /content/drive; to attempt to forcibly remount, call drive.mount(\"/content/drive\", force_remount=True).\n"
          ]
        }
      ]
    },
    {
      "cell_type": "code",
      "source": [
        "#sc.stop()"
      ],
      "metadata": {
        "id": "tlqlLKrmjZ7x",
        "colab": {
          "base_uri": "https://localhost:8080/",
          "height": 165
        },
        "outputId": "d6987f80-f4e3-4d09-85b9-92c74df84b0a"
      },
      "execution_count": 3,
      "outputs": [
        {
          "output_type": "error",
          "ename": "NameError",
          "evalue": "ignored",
          "traceback": [
            "\u001b[0;31m---------------------------------------------------------------------------\u001b[0m",
            "\u001b[0;31mNameError\u001b[0m                                 Traceback (most recent call last)",
            "\u001b[0;32m<ipython-input-3-8d3513b7698b>\u001b[0m in \u001b[0;36m<module>\u001b[0;34m\u001b[0m\n\u001b[0;32m----> 1\u001b[0;31m \u001b[0msc\u001b[0m\u001b[0;34m.\u001b[0m\u001b[0mstop\u001b[0m\u001b[0;34m(\u001b[0m\u001b[0;34m)\u001b[0m\u001b[0;34m\u001b[0m\u001b[0;34m\u001b[0m\u001b[0m\n\u001b[0m",
            "\u001b[0;31mNameError\u001b[0m: name 'sc' is not defined"
          ]
        }
      ]
    },
    {
      "cell_type": "code",
      "source": [
        "'''!apt-get install openjdk-8-jdk-headless -qq > /dev/null\n",
        "!wget -q https://dlcdn.apache.org/spark/spark-3.3.0/spark-3.3.0-bin-hadoop3.tgz\n",
        "!tar xf spark-3.3.0-bin-hadoop3.tgz\n",
        "!pip install -q findspark\n",
        "!pip install pyspark  '''\n"
      ],
      "metadata": {
        "id": "1zCAPCuNQyc3",
        "colab": {
          "base_uri": "https://localhost:8080/"
        },
        "outputId": "0d593495-c5d9-438d-d9ba-9e5a921431e8"
      },
      "execution_count": 4,
      "outputs": [
        {
          "output_type": "stream",
          "name": "stdout",
          "text": [
            "Looking in indexes: https://pypi.org/simple, https://us-python.pkg.dev/colab-wheels/public/simple/\n",
            "Collecting pyspark\n",
            "  Downloading pyspark-3.3.0.tar.gz (281.3 MB)\n",
            "\u001b[K     |████████████████████████████████| 281.3 MB 52 kB/s \n",
            "\u001b[?25hCollecting py4j==0.10.9.5\n",
            "  Downloading py4j-0.10.9.5-py2.py3-none-any.whl (199 kB)\n",
            "\u001b[K     |████████████████████████████████| 199 kB 21.7 MB/s \n",
            "\u001b[?25hBuilding wheels for collected packages: pyspark\n",
            "  Building wheel for pyspark (setup.py) ... \u001b[?25l\u001b[?25hdone\n",
            "  Created wheel for pyspark: filename=pyspark-3.3.0-py2.py3-none-any.whl size=281764026 sha256=b60073cfb18fda8b1301bb9243c7ac70ead8899b1392087f3a8858376b471fdf\n",
            "  Stored in directory: /root/.cache/pip/wheels/7a/8e/1b/f73a52650d2e5f337708d9f6a1750d451a7349a867f928b885\n",
            "Successfully built pyspark\n",
            "Installing collected packages: py4j, pyspark\n",
            "Successfully installed py4j-0.10.9.5 pyspark-3.3.0\n"
          ]
        }
      ]
    },
    {
      "cell_type": "code",
      "source": [
        "#!wget -q https://dlcdn.apache.org/spark/spark-3.3.0/spark-3.3.0-bin-hadoop3.tgz"
      ],
      "metadata": {
        "id": "f8-Lw8-rTyO4"
      },
      "execution_count": null,
      "outputs": []
    },
    {
      "cell_type": "code",
      "source": [],
      "metadata": {
        "id": "kmmBygZVT9L1"
      },
      "execution_count": null,
      "outputs": []
    },
    {
      "cell_type": "code",
      "source": [],
      "metadata": {
        "id": "w281n5-nUN7S"
      },
      "execution_count": null,
      "outputs": []
    },
    {
      "cell_type": "code",
      "source": [
        "from pyspark import SparkContext"
      ],
      "metadata": {
        "id": "oENtkY0DU5Je"
      },
      "execution_count": null,
      "outputs": []
    },
    {
      "cell_type": "code",
      "source": [
        "sc=SparkContext()"
      ],
      "metadata": {
        "id": "uRVRThrMVvcD"
      },
      "execution_count": null,
      "outputs": []
    },
    {
      "cell_type": "code",
      "source": [
        "a=sc.parallelize([1,2,3])"
      ],
      "metadata": {
        "id": "M8MmNGiBVjOQ"
      },
      "execution_count": null,
      "outputs": []
    },
    {
      "cell_type": "code",
      "source": [
        "a.take(2)"
      ],
      "metadata": {
        "colab": {
          "base_uri": "https://localhost:8080/"
        },
        "id": "XmOJiLfsWXzu",
        "outputId": "333fcdf4-ae20-45dd-e5f6-4033e4f428be"
      },
      "execution_count": null,
      "outputs": [
        {
          "output_type": "execute_result",
          "data": {
            "text/plain": [
              "[1, 2]"
            ]
          },
          "metadata": {},
          "execution_count": 102
        }
      ]
    },
    {
      "cell_type": "code",
      "source": [
        "sc.stop()"
      ],
      "metadata": {
        "id": "uc5nIFyuWi3Y"
      },
      "execution_count": null,
      "outputs": []
    },
    {
      "cell_type": "code",
      "source": [
        "import findspark\n",
        "findspark.init()\n",
        "\n",
        "from pyspark.sql import SparkSession\n",
        "\n",
        "retails_data_csv = \"/content/drive/MyDrive/data/retail-data/by-day/*.csv\""
      ],
      "metadata": {
        "id": "UCQq5Kj1W-Cx"
      },
      "execution_count": null,
      "outputs": []
    },
    {
      "cell_type": "code",
      "source": [
        "spark = SparkSession \\\n",
        "    .builder \\\n",
        "    .appName(\"Basic Dataframe Operations\") \\\n",
        "    .config(\"spark.master\", \"local\") \\\n",
        "    .getOrCreate()"
      ],
      "metadata": {
        "id": "eXHZBnchW9_U"
      },
      "execution_count": null,
      "outputs": []
    },
    {
      "cell_type": "code",
      "source": [
        "df = spark.read.format(\"csv\")\\\n",
        "  .option(\"header\", \"true\")\\\n",
        "  .option(\"inferSchema\", \"true\")\\\n",
        "  .load(retails_data_csv)\\\n",
        "  .repartition(5)"
      ],
      "metadata": {
        "id": "fJ7uwjHnW9sV"
      },
      "execution_count": null,
      "outputs": []
    },
    {
      "cell_type": "code",
      "source": [
        "df.show()"
      ],
      "metadata": {
        "colab": {
          "base_uri": "https://localhost:8080/"
        },
        "id": "ZPd57GXLXYvL",
        "outputId": "e6b63c6c-87e8-4025-ae2b-f5c696a229a8"
      },
      "execution_count": null,
      "outputs": [
        {
          "output_type": "stream",
          "name": "stdout",
          "text": [
            "+---------+---------+--------------------+--------+-------------------+---------+----------+--------------+\n",
            "|InvoiceNo|StockCode|         Description|Quantity|        InvoiceDate|UnitPrice|CustomerID|       Country|\n",
            "+---------+---------+--------------------+--------+-------------------+---------+----------+--------------+\n",
            "|   580729|    22492|MINI PAINT SET VI...|       1|2011-12-05 17:24:00|     1.63|      null|United Kingdom|\n",
            "|   575070|    21756|BATH BUILDING BLO...|       1|2011-11-08 12:58:00|     6.25|   17841.0|United Kingdom|\n",
            "|   574573|    22945|CHRISTMAS METAL T...|       6|2011-11-04 16:35:00|     0.85|   14592.0|United Kingdom|\n",
            "|   575911|    35970|ZINC FOLKART SLEI...|      24|2011-11-11 16:13:00|     1.69|   17314.0|United Kingdom|\n",
            "|   576559|    22360|GLASS JAR ENGLISH...|       1|2011-11-15 13:19:00|     2.95|   14711.0|United Kingdom|\n",
            "|   569900|    35970|ZINC FOLKART SLEI...|      12|2011-10-06 16:17:00|     1.69|   17651.0|United Kingdom|\n",
            "|   539453|    21365|MIRRORED WALL ART...|       1|2010-12-17 17:08:00|     5.91|      null|United Kingdom|\n",
            "|   580959|    22419|    LIPSTICK PEN RED|      12|2011-12-06 14:31:00|     0.42|   14673.0|United Kingdom|\n",
            "|   578757|    20669|RED HEART LUGGAGE...|       1|2011-11-25 11:41:00|     1.25|   12748.0|United Kingdom|\n",
            "|   577938|    22975|SPACEBOY CHILDREN...|      12|2011-11-22 12:07:00|     1.25|   15525.0|United Kingdom|\n",
            "|   580543|    21165|BEWARE OF THE CAT...|      24|2011-12-05 09:11:00|     1.69|   18223.0|United Kingdom|\n",
            "|   580612|    22698|PINK REGENCY TEAC...|       7|2011-12-05 11:58:00|     5.79|      null|United Kingdom|\n",
            "|   575960|    23298|      SPOTTY BUNTING|       1|2011-11-13 12:28:00|     4.95|   15429.0|United Kingdom|\n",
            "|   537435|    22151|PLACE SETTING WHI...|      10|2010-12-06 16:58:00|     0.42|   17920.0|United Kingdom|\n",
            "|   576339|    23228|FILIGREE HEART BI...|       1|2011-11-14 15:27:00|     2.46|   14096.0|United Kingdom|\n",
            "|   578270|    20961|STRAWBERRY BATH S...|       3|2011-11-23 13:39:00|     2.46|   14096.0|United Kingdom|\n",
            "|   537240|    21169|YOU'RE CONFUSING ...|       2|2010-12-06 10:08:00|     4.21|      null|United Kingdom|\n",
            "|   579777|    21731|RED TOADSTOOL LED...|       3|2011-11-30 15:13:00|     3.29|      null|United Kingdom|\n",
            "|   578814|    22493|PAINT YOUR OWN CA...|       2|2011-11-25 13:40:00|     1.65|   12748.0|United Kingdom|\n",
            "|   576071|    22156|HEART DECORATION ...|       3|2011-11-13 16:03:00|     0.85|   18069.0|United Kingdom|\n",
            "+---------+---------+--------------------+--------+-------------------+---------+----------+--------------+\n",
            "only showing top 20 rows\n",
            "\n"
          ]
        }
      ]
    },
    {
      "cell_type": "code",
      "source": [
        "df.rdd.getNumPartitions()"
      ],
      "metadata": {
        "colab": {
          "base_uri": "https://localhost:8080/"
        },
        "id": "lV0ByxEEXYi_",
        "outputId": "0bcb5100-85f4-40a2-fedb-33f8ad968c78"
      },
      "execution_count": null,
      "outputs": [
        {
          "output_type": "execute_result",
          "data": {
            "text/plain": [
              "5"
            ]
          },
          "metadata": {},
          "execution_count": 108
        }
      ]
    },
    {
      "cell_type": "code",
      "source": [
        "#sql table\n",
        "df.createOrReplaceTempView(\"dfTable\")"
      ],
      "metadata": {
        "id": "QtoXTefzbVKR"
      },
      "execution_count": null,
      "outputs": []
    },
    {
      "cell_type": "code",
      "source": [
        "from pyspark.sql.functions import count, countDistinct, approx_count_distinct\n",
        "df.select(count(\"StockCode\")).show()"
      ],
      "metadata": {
        "colab": {
          "base_uri": "https://localhost:8080/"
        },
        "id": "41Mu67o2Yuvs",
        "outputId": "5e71b01e-3f75-48ec-f929-56b42cd54e43"
      },
      "execution_count": null,
      "outputs": [
        {
          "output_type": "stream",
          "name": "stdout",
          "text": [
            "+----------------+\n",
            "|count(StockCode)|\n",
            "+----------------+\n",
            "|          541909|\n",
            "+----------------+\n",
            "\n"
          ]
        }
      ]
    },
    {
      "cell_type": "code",
      "source": [
        "df.groupBy(\"StockCode\").count().show()"
      ],
      "metadata": {
        "colab": {
          "base_uri": "https://localhost:8080/"
        },
        "id": "WpbVEbsfYulp",
        "outputId": "727c0a59-2c34-4467-a476-34c63a046a07"
      },
      "execution_count": null,
      "outputs": [
        {
          "output_type": "stream",
          "name": "stdout",
          "text": [
            "+---------+-----+\n",
            "|StockCode|count|\n",
            "+---------+-----+\n",
            "|    22596|  274|\n",
            "|    21249|  119|\n",
            "|    21894|  135|\n",
            "|    22121|  141|\n",
            "|    23318|  391|\n",
            "|    20868|   46|\n",
            "|    22728|  810|\n",
            "|    23459|   21|\n",
            "|    90022|   21|\n",
            "|    22254|   61|\n",
            "|    21259|  296|\n",
            "|    21452|  200|\n",
            "|   90210B|    7|\n",
            "|    90143|   22|\n",
            "|   90197B|   27|\n",
            "|    21248|   68|\n",
            "|    21889|  607|\n",
            "|   85132b|    9|\n",
            "|    21331|    8|\n",
            "|   85115B|    1|\n",
            "+---------+-----+\n",
            "only showing top 20 rows\n",
            "\n"
          ]
        }
      ]
    },
    {
      "cell_type": "code",
      "source": [
        "df.select(countDistinct(\"StockCode\")).show()"
      ],
      "metadata": {
        "colab": {
          "base_uri": "https://localhost:8080/"
        },
        "id": "3fGKDTqKYujP",
        "outputId": "dba9481e-18be-4256-a5ed-6c5c8a5a489f"
      },
      "execution_count": null,
      "outputs": [
        {
          "output_type": "stream",
          "name": "stdout",
          "text": [
            "+-------------------------+\n",
            "|count(DISTINCT StockCode)|\n",
            "+-------------------------+\n",
            "|                     4070|\n",
            "+-------------------------+\n",
            "\n"
          ]
        }
      ]
    },
    {
      "cell_type": "code",
      "source": [
        "df.select(approx_count_distinct(\"StockCode\", 0.1)).show()"
      ],
      "metadata": {
        "colab": {
          "base_uri": "https://localhost:8080/"
        },
        "id": "oeKVBHxtYugz",
        "outputId": "af51e59c-0b04-4ae1-da33-43de2ca08914"
      },
      "execution_count": null,
      "outputs": [
        {
          "output_type": "stream",
          "name": "stdout",
          "text": [
            "+--------------------------------+\n",
            "|approx_count_distinct(StockCode)|\n",
            "+--------------------------------+\n",
            "|                            3364|\n",
            "+--------------------------------+\n",
            "\n"
          ]
        }
      ]
    },
    {
      "cell_type": "code",
      "source": [
        "spark.sql(\"\"\"SELECT count(StockCode),\n",
        "                    approx_count_distinct(StockCode)\n",
        "             FROM dfTable\"\"\").show()"
      ],
      "metadata": {
        "colab": {
          "base_uri": "https://localhost:8080/"
        },
        "id": "IcskLMa_YueD",
        "outputId": "bf739d4d-446a-44ac-f60e-e6be0a881107"
      },
      "execution_count": null,
      "outputs": [
        {
          "output_type": "stream",
          "name": "stdout",
          "text": [
            "+----------------+--------------------------------+\n",
            "|count(StockCode)|approx_count_distinct(StockCode)|\n",
            "+----------------+--------------------------------+\n",
            "|          541909|                            3804|\n",
            "+----------------+--------------------------------+\n",
            "\n"
          ]
        }
      ]
    },
    {
      "cell_type": "code",
      "source": [
        "sqlc=\"SELECT count(StockCode), approx_count_distinct(StockCode)  FROM dfTable\"\n",
        "spark.sql(sqlc).show()"
      ],
      "metadata": {
        "colab": {
          "base_uri": "https://localhost:8080/"
        },
        "id": "S4fLEMtrYuax",
        "outputId": "b5b41da1-7da6-45be-d5cf-ff19cd7cc8e6"
      },
      "execution_count": null,
      "outputs": [
        {
          "output_type": "stream",
          "name": "stdout",
          "text": [
            "+----------------+--------------------------------+\n",
            "|count(StockCode)|approx_count_distinct(StockCode)|\n",
            "+----------------+--------------------------------+\n",
            "|          541909|                            3804|\n",
            "+----------------+--------------------------------+\n",
            "\n"
          ]
        }
      ]
    },
    {
      "cell_type": "code",
      "source": [
        "#  Example 2 - first, last, min, max\n",
        "from pyspark.sql.functions import first, last, min, max"
      ],
      "metadata": {
        "id": "3dJ8EuAMbhgS"
      },
      "execution_count": null,
      "outputs": []
    },
    {
      "cell_type": "code",
      "source": [
        "df.select(first(\"StockCode\"), last(\"StockCode\")).show()"
      ],
      "metadata": {
        "colab": {
          "base_uri": "https://localhost:8080/"
        },
        "id": "X8kfT3kucTwY",
        "outputId": "52b92188-ff99-43d1-dbce-ecf225ed0d19"
      },
      "execution_count": null,
      "outputs": [
        {
          "output_type": "stream",
          "name": "stdout",
          "text": [
            "+----------------+---------------+\n",
            "|first(StockCode)|last(StockCode)|\n",
            "+----------------+---------------+\n",
            "|           22148|          21201|\n",
            "+----------------+---------------+\n",
            "\n"
          ]
        }
      ]
    },
    {
      "cell_type": "code",
      "source": [
        "df.select(min(\"Quantity\"), max(\"Quantity\")).show()"
      ],
      "metadata": {
        "colab": {
          "base_uri": "https://localhost:8080/"
        },
        "id": "0kRPZWlhcmaV",
        "outputId": "accace23-6098-4d02-eea9-cd1c6c3ba1a0"
      },
      "execution_count": null,
      "outputs": [
        {
          "output_type": "stream",
          "name": "stdout",
          "text": [
            "+-------------+-------------+\n",
            "|min(Quantity)|max(Quantity)|\n",
            "+-------------+-------------+\n",
            "|       -80995|        80995|\n",
            "+-------------+-------------+\n",
            "\n"
          ]
        }
      ]
    },
    {
      "cell_type": "code",
      "source": [
        "spark.sql(\"\"\"SELECT first(StockCode) as first, \n",
        "                    last(StockCode) as last,\n",
        "                    min(Quantity)  as minQty,\n",
        "                    max(Quantity) as maxQty\n",
        "             FROM dfTable\"\"\").show()"
      ],
      "metadata": {
        "colab": {
          "base_uri": "https://localhost:8080/"
        },
        "id": "D8yr6iZ2cvMr",
        "outputId": "d747daa1-c875-497f-d0c7-830cba09992e"
      },
      "execution_count": null,
      "outputs": [
        {
          "output_type": "stream",
          "name": "stdout",
          "text": [
            "+-----+-----+------+------+\n",
            "|first| last|minQty|maxQty|\n",
            "+-----+-----+------+------+\n",
            "|22578|22641|-80995| 80995|\n",
            "+-----+-----+------+------+\n",
            "\n"
          ]
        }
      ]
    },
    {
      "cell_type": "code",
      "source": [
        "#  Example 3 - sum, sumDistinct, avg\n",
        "from pyspark.sql.functions import sum, sumDistinct, avg"
      ],
      "metadata": {
        "id": "38_2wEn9c0av"
      },
      "execution_count": null,
      "outputs": []
    },
    {
      "cell_type": "code",
      "source": [
        "df.select(sum(\"Quantity\")).show() "
      ],
      "metadata": {
        "colab": {
          "base_uri": "https://localhost:8080/"
        },
        "id": "rz1PokJedacO",
        "outputId": "58d03537-2afd-4a0e-8422-69fdfcb9333e"
      },
      "execution_count": null,
      "outputs": [
        {
          "output_type": "stream",
          "name": "stdout",
          "text": [
            "+-------------+\n",
            "|sum(Quantity)|\n",
            "+-------------+\n",
            "|      5176450|\n",
            "+-------------+\n",
            "\n"
          ]
        }
      ]
    },
    {
      "cell_type": "code",
      "source": [
        "df.select(sumDistinct(\"Quantity\")).show()"
      ],
      "metadata": {
        "colab": {
          "base_uri": "https://localhost:8080/"
        },
        "id": "C2nkIfDDdmLA",
        "outputId": "f82c5c91-d67e-4d14-8970-7a23bb054efc"
      },
      "execution_count": null,
      "outputs": [
        {
          "output_type": "stream",
          "name": "stdout",
          "text": [
            "+----------------------+\n",
            "|sum(DISTINCT Quantity)|\n",
            "+----------------------+\n",
            "|                 29310|\n",
            "+----------------------+\n",
            "\n"
          ]
        }
      ]
    },
    {
      "cell_type": "code",
      "source": [
        "spark.sql(\"\"\"SELECT sum(Quantity)  as sumQty, \n",
        "                    mean(Quantity) as mean\n",
        "             FROM dfTable\"\"\").show() "
      ],
      "metadata": {
        "colab": {
          "base_uri": "https://localhost:8080/"
        },
        "id": "YJEaWz5-dmHa",
        "outputId": "ea37476a-1316-4fe4-f82a-10a9358664b4"
      },
      "execution_count": null,
      "outputs": [
        {
          "output_type": "stream",
          "name": "stdout",
          "text": [
            "+-------+----------------+\n",
            "| sumQty|            mean|\n",
            "+-------+----------------+\n",
            "|5176450|9.55224954743324|\n",
            "+-------+----------------+\n",
            "\n"
          ]
        }
      ]
    },
    {
      "cell_type": "code",
      "source": [
        "from pyspark.sql.functions import mean, expr "
      ],
      "metadata": {
        "id": "CwZCzVm8dmDq"
      },
      "execution_count": null,
      "outputs": []
    },
    {
      "cell_type": "code",
      "source": [
        "df.select(\n",
        "  count(\"Quantity\").alias(\"total_transactions\"),\n",
        "  sum(\"Quantity\").alias(\"total_purchases\"),\n",
        "  avg(\"Quantity\").alias(\"avg_purchases\"),\n",
        "  expr(\"mean(Quantity)\").alias(\"mean_purchases\")) \\\n",
        ".selectExpr(\n",
        "  \"total_purchases/total_transactions\",\n",
        "  \"avg_purchases\",\n",
        "  \"mean_purchases\").show()"
      ],
      "metadata": {
        "id": "UMd2xY2rdl-3",
        "colab": {
          "base_uri": "https://localhost:8080/"
        },
        "outputId": "2bcbc214-0400-4fe0-b64e-3b3971d0d12b"
      },
      "execution_count": null,
      "outputs": [
        {
          "output_type": "stream",
          "name": "stdout",
          "text": [
            "+--------------------------------------+----------------+----------------+\n",
            "|(total_purchases / total_transactions)|   avg_purchases|  mean_purchases|\n",
            "+--------------------------------------+----------------+----------------+\n",
            "|                      9.55224954743324|9.55224954743324|9.55224954743324|\n",
            "+--------------------------------------+----------------+----------------+\n",
            "\n"
          ]
        }
      ]
    },
    {
      "cell_type": "code",
      "source": [
        "# Example 4 - varience and standard deviation\n",
        "from pyspark.sql.functions import var_pop, stddev_pop, variance, stddev\n",
        "from pyspark.sql.functions import var_samp, stddev_samp"
      ],
      "metadata": {
        "id": "X7Ky4Rbfdl8k"
      },
      "execution_count": null,
      "outputs": []
    },
    {
      "cell_type": "code",
      "source": [
        "df.select(variance(\"Quantity\"), stddev(\"Quantity\"),\n",
        "  var_pop(\"Quantity\"), var_samp(\"Quantity\"),\n",
        "  stddev_pop(\"Quantity\"), stddev_samp(\"Quantity\")).show()"
      ],
      "metadata": {
        "id": "nDfuJ0aZdl6I",
        "colab": {
          "base_uri": "https://localhost:8080/"
        },
        "outputId": "dd5a3548-82a1-452d-c5f7-474e1b5a1c16"
      },
      "execution_count": null,
      "outputs": [
        {
          "output_type": "stream",
          "name": "stdout",
          "text": [
            "+------------------+---------------------+-----------------+------------------+--------------------+---------------------+\n",
            "|var_samp(Quantity)|stddev_samp(Quantity)|var_pop(Quantity)|var_samp(Quantity)|stddev_pop(Quantity)|stddev_samp(Quantity)|\n",
            "+------------------+---------------------+-----------------+------------------+--------------------+---------------------+\n",
            "| 47559.39140929852|   218.08115785023364|47559.30364660883| 47559.39140929852|  218.08095663447745|   218.08115785023364|\n",
            "+------------------+---------------------+-----------------+------------------+--------------------+---------------------+\n",
            "\n"
          ]
        }
      ]
    },
    {
      "cell_type": "code",
      "source": [
        "spark.sql(\"\"\"SELECT var_pop(Quantity), \n",
        "                    var_samp(Quantity),\n",
        "                    stddev_pop(Quantity), \n",
        "                    stddev_samp(Quantity)\n",
        "             FROM dfTable\"\"\").show()"
      ],
      "metadata": {
        "id": "TUMdRVrwdl33",
        "colab": {
          "base_uri": "https://localhost:8080/"
        },
        "outputId": "dcc7dd9b-c87e-4ca7-d2de-ed894a8ea23f"
      },
      "execution_count": null,
      "outputs": [
        {
          "output_type": "stream",
          "name": "stdout",
          "text": [
            "+-----------------+------------------+--------------------+---------------------+\n",
            "|var_pop(Quantity)|var_samp(Quantity)|stddev_pop(Quantity)|stddev_samp(Quantity)|\n",
            "+-----------------+------------------+--------------------+---------------------+\n",
            "|47559.30364660883| 47559.39140929852|  218.08095663447745|   218.08115785023364|\n",
            "+-----------------+------------------+--------------------+---------------------+\n",
            "\n"
          ]
        }
      ]
    },
    {
      "cell_type": "code",
      "source": [
        "# Example 5 - skewness & kurtosis\n",
        "from pyspark.sql.functions import skewness, kurtosis"
      ],
      "metadata": {
        "id": "DdvZy6cfdl1k"
      },
      "execution_count": null,
      "outputs": []
    },
    {
      "cell_type": "code",
      "source": [
        "df.select(skewness(\"Quantity\"), kurtosis(\"Quantity\")).show()  "
      ],
      "metadata": {
        "id": "2ZbL_MIjdly8",
        "colab": {
          "base_uri": "https://localhost:8080/"
        },
        "outputId": "fa2a8aa9-c08b-4c94-afb3-cc64780ac0b9"
      },
      "execution_count": null,
      "outputs": [
        {
          "output_type": "stream",
          "name": "stdout",
          "text": [
            "+--------------------+------------------+\n",
            "|  skewness(Quantity)|kurtosis(Quantity)|\n",
            "+--------------------+------------------+\n",
            "|-0.26407557610430366|119768.05495533711|\n",
            "+--------------------+------------------+\n",
            "\n"
          ]
        }
      ]
    },
    {
      "cell_type": "code",
      "source": [
        "spark.sql(\"SELECT skewness(Quantity), kurtosis(Quantity) FROM dfTable\").show()"
      ],
      "metadata": {
        "id": "DkahG2xqdlwW",
        "colab": {
          "base_uri": "https://localhost:8080/"
        },
        "outputId": "53b84e41-ba5a-44b9-dea1-c6754e76d54e"
      },
      "execution_count": null,
      "outputs": [
        {
          "output_type": "stream",
          "name": "stdout",
          "text": [
            "+--------------------+------------------+\n",
            "|  skewness(Quantity)|kurtosis(Quantity)|\n",
            "+--------------------+------------------+\n",
            "|-0.26407557610430366|119768.05495533711|\n",
            "+--------------------+------------------+\n",
            "\n"
          ]
        }
      ]
    },
    {
      "cell_type": "code",
      "source": [
        "# Example 6 - Covariance and Correlation\n",
        "from pyspark.sql.functions import corr, covar_pop, covar_samp"
      ],
      "metadata": {
        "id": "K_iAH_QwdluC"
      },
      "execution_count": null,
      "outputs": []
    },
    {
      "cell_type": "code",
      "source": [
        "df.select(corr(\"InvoiceNo\", \"Quantity\"), covar_samp(\"InvoiceNo\", \"Quantity\"),\n",
        "    covar_pop(\"InvoiceNo\", \"Quantity\")).show()"
      ],
      "metadata": {
        "id": "sK7IUXSxdlrH",
        "colab": {
          "base_uri": "https://localhost:8080/"
        },
        "outputId": "3fd6902d-dea9-455c-cd6c-37a4ee737e5a"
      },
      "execution_count": null,
      "outputs": [
        {
          "output_type": "stream",
          "name": "stdout",
          "text": [
            "+-------------------------+-------------------------------+------------------------------+\n",
            "|corr(InvoiceNo, Quantity)|covar_samp(InvoiceNo, Quantity)|covar_pop(InvoiceNo, Quantity)|\n",
            "+-------------------------+-------------------------------+------------------------------+\n",
            "|     4.912186085633174E-4|             1052.7280543896418|            1052.7260778735376|\n",
            "+-------------------------+-------------------------------+------------------------------+\n",
            "\n"
          ]
        }
      ]
    },
    {
      "cell_type": "code",
      "source": [
        "spark.sql(\"\"\"SELECT corr(InvoiceNo, Quantity), \n",
        "                        covar_samp(InvoiceNo, Quantity),\n",
        "                        covar_pop(InvoiceNo, Quantity)\n",
        "                  FROM dfTable\"\"\").show()"
      ],
      "metadata": {
        "id": "VExfqsCRdlom",
        "colab": {
          "base_uri": "https://localhost:8080/"
        },
        "outputId": "6e8a2332-38a6-4ddc-8e91-76b91706e15e"
      },
      "execution_count": null,
      "outputs": [
        {
          "output_type": "stream",
          "name": "stdout",
          "text": [
            "+-------------------------+-------------------------------+------------------------------+\n",
            "|corr(InvoiceNo, Quantity)|covar_samp(InvoiceNo, Quantity)|covar_pop(InvoiceNo, Quantity)|\n",
            "+-------------------------+-------------------------------+------------------------------+\n",
            "|     4.912186085633174E-4|             1052.7280543896418|            1052.7260778735376|\n",
            "+-------------------------+-------------------------------+------------------------------+\n",
            "\n"
          ]
        }
      ]
    },
    {
      "cell_type": "code",
      "source": [
        "#- Example 7 - Aggregation on Collections\n",
        "from pyspark.sql.functions import collect_set, collect_list"
      ],
      "metadata": {
        "id": "rsi9JXW6dlmO"
      },
      "execution_count": null,
      "outputs": []
    },
    {
      "cell_type": "code",
      "source": [
        "\n",
        "df.agg(collect_set(\"Country\"), collect_list(\"Country\")).show()"
      ],
      "metadata": {
        "id": "JecDY4Pydljk",
        "colab": {
          "base_uri": "https://localhost:8080/"
        },
        "outputId": "023b044c-ed13-4328-aa5e-6f84df03aa04"
      },
      "execution_count": null,
      "outputs": [
        {
          "output_type": "stream",
          "name": "stdout",
          "text": [
            "+--------------------+---------------------+\n",
            "|collect_set(Country)|collect_list(Country)|\n",
            "+--------------------+---------------------+\n",
            "|[Portugal, Italy,...| [Switzerland, Swi...|\n",
            "+--------------------+---------------------+\n",
            "\n"
          ]
        }
      ]
    },
    {
      "cell_type": "code",
      "source": [
        "spark.sql(\"SELECT collect_set(Country), collect_list(Country) FROM dfTable\") \\\n",
        "     .show()"
      ],
      "metadata": {
        "id": "nbzAXhwUdlhB",
        "colab": {
          "base_uri": "https://localhost:8080/"
        },
        "outputId": "435144ef-bfe2-4c52-f26e-8db43a05df2a"
      },
      "execution_count": null,
      "outputs": [
        {
          "output_type": "stream",
          "name": "stdout",
          "text": [
            "+--------------------+---------------------+\n",
            "|collect_set(Country)|collect_list(Country)|\n",
            "+--------------------+---------------------+\n",
            "|[Portugal, Italy,...| [Switzerland, Swi...|\n",
            "+--------------------+---------------------+\n",
            "\n"
          ]
        }
      ]
    },
    {
      "cell_type": "code",
      "source": [
        "#  Example 8 - Grouping\n",
        "from pyspark.sql.functions import count, sum\n",
        "df.groupBy(\"InvoiceNo\", \"CustomerId\").count().show()"
      ],
      "metadata": {
        "id": "LvqaLDxWdlen",
        "colab": {
          "base_uri": "https://localhost:8080/"
        },
        "outputId": "d1599394-533f-4297-d5a4-b4e7734080cf"
      },
      "execution_count": null,
      "outputs": [
        {
          "output_type": "stream",
          "name": "stdout",
          "text": [
            "+---------+----------+-----+\n",
            "|InvoiceNo|CustomerId|count|\n",
            "+---------+----------+-----+\n",
            "|   575753|   17841.0|   80|\n",
            "|   580657|   14696.0|   20|\n",
            "|   581474|   12748.0|   24|\n",
            "|   570413|   17652.0|   18|\n",
            "|   579062|   17651.0|   16|\n",
            "|   576357|   15660.0|   18|\n",
            "|  C579018|   16678.0|    1|\n",
            "|   576641|   17549.0|    4|\n",
            "|   580090|   13323.0|    5|\n",
            "|   577338|   17650.0|    8|\n",
            "|   574138|   12415.0|    5|\n",
            "|   577783|   18139.0|   35|\n",
            "|   581020|   17511.0|   40|\n",
            "|   572703|   16110.0|  154|\n",
            "|  C538084|   12649.0|    2|\n",
            "|   568895|   15356.0|   54|\n",
            "|  C577375|   14441.0|    2|\n",
            "|   568670|   14978.0|   38|\n",
            "|   580138|   13199.0|    3|\n",
            "|   575220|   17511.0|   14|\n",
            "+---------+----------+-----+\n",
            "only showing top 20 rows\n",
            "\n"
          ]
        }
      ]
    },
    {
      "cell_type": "code",
      "source": [
        "df.groupBy(\"InvoiceNo\").agg(\n",
        "    count(\"Quantity\").alias(\"quan\"),\n",
        "    expr(\"count(Quantity)\"))\\\n",
        "   .show()"
      ],
      "metadata": {
        "id": "LBTCxx3Mdlbm",
        "colab": {
          "base_uri": "https://localhost:8080/"
        },
        "outputId": "0e88f0fb-104a-4e83-953b-7853ab38f6da"
      },
      "execution_count": null,
      "outputs": [
        {
          "output_type": "stream",
          "name": "stdout",
          "text": [
            "+---------+----+---------------+\n",
            "|InvoiceNo|quan|count(Quantity)|\n",
            "+---------+----+---------------+\n",
            "|   575961|  13|             13|\n",
            "|   575671|  20|             20|\n",
            "|   577511|  46|             46|\n",
            "|   576059|  44|             44|\n",
            "|   550469|  31|             31|\n",
            "|   577022|  38|             38|\n",
            "|   576112|  20|             20|\n",
            "|   569823|  69|             69|\n",
            "|   578292|  72|             72|\n",
            "|   575091|  38|             38|\n",
            "|   577541|  21|             21|\n",
            "|   536596|   6|              6|\n",
            "|   574592|   8|              8|\n",
            "|   578057|  28|             28|\n",
            "|   578459|   8|              8|\n",
            "|   580906|   4|              4|\n",
            "|   567695|   1|              1|\n",
            "|   537252|   1|              1|\n",
            "|   570281|   3|              3|\n",
            "|   570264|   1|              1|\n",
            "+---------+----+---------------+\n",
            "only showing top 20 rows\n",
            "\n"
          ]
        }
      ]
    },
    {
      "cell_type": "code",
      "source": [
        "df.groupBy(\"InvoiceNo\").agg(\n",
        "    expr(\"avg(Quantity)\"),expr(\"sum(Quantity)\"),expr(\"stddev_pop(Quantity)\"))\\\n",
        "  .show()"
      ],
      "metadata": {
        "id": "1rU2ub0ldlZD",
        "colab": {
          "base_uri": "https://localhost:8080/"
        },
        "outputId": "1746eab2-b5c8-4f20-f2fa-93dae55b9185"
      },
      "execution_count": null,
      "outputs": [
        {
          "output_type": "stream",
          "name": "stdout",
          "text": [
            "+---------+------------------+-------------+--------------------+\n",
            "|InvoiceNo|     avg(Quantity)|sum(Quantity)|stddev_pop(Quantity)|\n",
            "+---------+------------------+-------------+--------------------+\n",
            "|   575961| 2.769230769230769|           36|  1.5268794800984007|\n",
            "|   575671|             16.65|          333|  12.141972656862638|\n",
            "|   577511|3.1739130434782608|          146|   5.402512892872719|\n",
            "|   576059|2.8181818181818183|          124|   5.223516436936151|\n",
            "|   550469| 5.129032258064516|          159|   8.838121007003883|\n",
            "|   577022| 5.131578947368421|          195|  2.9034557688489158|\n",
            "|   576112|              10.9|          218|   7.495998932764064|\n",
            "|   569823|1.4782608695652173|          102|  0.9869980199409519|\n",
            "|   578292| 5.902777777777778|          425|    8.75937548861888|\n",
            "|   575091|11.552631578947368|          439|   5.008925551458656|\n",
            "|   577541| 9.333333333333334|          196|    9.18245393767158|\n",
            "|   536596|               1.5|            9|   1.118033988749895|\n",
            "|   574592|              7.25|           58|  4.4651427748729375|\n",
            "|   578057| 4.607142857142857|          129|   8.755974636597271|\n",
            "|   578459|              28.0|          224|  25.999999999999996|\n",
            "|   580906|              27.0|          108|  13.076696830622021|\n",
            "|   567695|             -42.0|          -42|                 0.0|\n",
            "|   537252|              31.0|           31|                 0.0|\n",
            "|   570281|              48.0|          144|                 0.0|\n",
            "|   570264|             -22.0|          -22|                 0.0|\n",
            "+---------+------------------+-------------+--------------------+\n",
            "only showing top 20 rows\n",
            "\n"
          ]
        }
      ]
    },
    {
      "cell_type": "code",
      "source": [
        "from pyspark.sql.functions import col, to_date"
      ],
      "metadata": {
        "id": "-AGsMi0DdlWj"
      },
      "execution_count": null,
      "outputs": []
    },
    {
      "cell_type": "code",
      "source": [
        "dfWithDate = df.withColumn(\"date\", to_date(col(\"InvoiceDate\"), \"MM/d/yyyy H:mm\"))"
      ],
      "metadata": {
        "id": "nCiIFLCIdlT2"
      },
      "execution_count": null,
      "outputs": []
    },
    {
      "cell_type": "code",
      "source": [
        "dfWithDate.createOrReplaceTempView(\"dfWithDate\")\n",
        "spark.sql(\"SELECT InvoiceDate, date FROM dfWithDate\").show()"
      ],
      "metadata": {
        "id": "qlA97dW3dlPs",
        "colab": {
          "base_uri": "https://localhost:8080/"
        },
        "outputId": "99bd00e4-c8e9-4440-f9ba-6c6095185470"
      },
      "execution_count": null,
      "outputs": [
        {
          "output_type": "stream",
          "name": "stdout",
          "text": [
            "+-------------------+----------+\n",
            "|        InvoiceDate|      date|\n",
            "+-------------------+----------+\n",
            "|2010-12-01 16:15:00|2010-12-01|\n",
            "|2011-12-08 15:49:00|2011-12-08|\n",
            "|2011-12-08 15:49:00|2011-12-08|\n",
            "|2011-11-11 12:02:00|2011-11-11|\n",
            "|2011-11-11 12:02:00|2011-11-11|\n",
            "|2011-11-11 12:02:00|2011-11-11|\n",
            "|2011-11-11 12:02:00|2011-11-11|\n",
            "|2011-11-11 12:02:00|2011-11-11|\n",
            "|2011-11-11 12:02:00|2011-11-11|\n",
            "|2011-11-11 12:02:00|2011-11-11|\n",
            "|2011-11-23 10:23:00|2011-11-23|\n",
            "|2011-11-23 10:23:00|2011-11-23|\n",
            "|2011-11-23 10:23:00|2011-11-23|\n",
            "|2011-11-23 10:23:00|2011-11-23|\n",
            "|2011-11-30 12:16:00|2011-11-30|\n",
            "|2011-11-30 12:16:00|2011-11-30|\n",
            "|2011-11-30 12:16:00|2011-11-30|\n",
            "|2011-11-30 12:16:00|2011-11-30|\n",
            "|2011-11-30 12:16:00|2011-11-30|\n",
            "|2011-11-30 12:16:00|2011-11-30|\n",
            "+-------------------+----------+\n",
            "only showing top 20 rows\n",
            "\n"
          ]
        }
      ]
    },
    {
      "cell_type": "code",
      "source": [],
      "metadata": {
        "id": "qecM-HPgdlNP"
      },
      "execution_count": null,
      "outputs": []
    },
    {
      "cell_type": "code",
      "source": [],
      "metadata": {
        "id": "vphF4zQAdlJD"
      },
      "execution_count": null,
      "outputs": []
    },
    {
      "cell_type": "code",
      "source": [],
      "metadata": {
        "id": "HFyf8byGdlDo"
      },
      "execution_count": null,
      "outputs": []
    },
    {
      "cell_type": "code",
      "source": [],
      "metadata": {
        "id": "5afl0L4udk7z"
      },
      "execution_count": null,
      "outputs": []
    },
    {
      "cell_type": "code",
      "source": [],
      "metadata": {
        "id": "B_k3X4_idkwM"
      },
      "execution_count": null,
      "outputs": []
    },
    {
      "cell_type": "code",
      "source": [],
      "metadata": {
        "id": "Dp1ghzX8dkde"
      },
      "execution_count": null,
      "outputs": []
    },
    {
      "cell_type": "code",
      "source": [],
      "metadata": {
        "id": "pSJd6-ZrdkIq"
      },
      "execution_count": null,
      "outputs": []
    },
    {
      "cell_type": "code",
      "source": [],
      "metadata": {
        "id": "Hd9Ik59QdkFO"
      },
      "execution_count": null,
      "outputs": []
    }
  ]
}