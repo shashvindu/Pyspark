{
  "nbformat": 4,
  "nbformat_minor": 0,
  "metadata": {
    "colab": {
      "provenance": [],
      "mount_file_id": "1xzpuwr6lHR1IePKG-OMumjW6decSMHRB",
      "authorship_tag": "ABX9TyMQhUwX9oJJYH5lLvym5vL4",
      "include_colab_link": true
    },
    "kernelspec": {
      "name": "python3",
      "display_name": "Python 3"
    },
    "language_info": {
      "name": "python"
    }
  },
  "cells": [
    {
      "cell_type": "markdown",
      "metadata": {
        "id": "view-in-github",
        "colab_type": "text"
      },
      "source": [
        "<a href=\"https://colab.research.google.com/github/shashvindu/Pyspark/blob/main/pysaprksetup_testwithretaildata.ipynb\" target=\"_parent\"><img src=\"https://colab.research.google.com/assets/colab-badge.svg\" alt=\"Open In Colab\"/></a>"
      ]
    },
    {
      "cell_type": "code",
      "execution_count": 16,
      "metadata": {
        "id": "hQsRpZpXQDkz"
      },
      "outputs": [],
      "source": []
    },
    {
      "cell_type": "code",
      "source": [
        "from google.colab import drive\n",
        "drive.mount('/content/drive')"
      ],
      "metadata": {
        "colab": {
          "base_uri": "https://localhost:8080/"
        },
        "id": "p9I_EnOTQRed",
        "outputId": "75ec5bb6-4df5-46c8-c5e9-0db72eb449a3"
      },
      "execution_count": 17,
      "outputs": [
        {
          "output_type": "stream",
          "name": "stdout",
          "text": [
            "Drive already mounted at /content/drive; to attempt to forcibly remount, call drive.mount(\"/content/drive\", force_remount=True).\n"
          ]
        }
      ]
    },
    {
      "cell_type": "code",
      "source": [
        "#sc.stop()"
      ],
      "metadata": {
        "id": "tlqlLKrmjZ7x"
      },
      "execution_count": 18,
      "outputs": []
    },
    {
      "cell_type": "code",
      "source": [
        "#!apt-get install openjdk-8-jdk-headless -qq > /dev/null"
      ],
      "metadata": {
        "id": "1zCAPCuNQyc3"
      },
      "execution_count": 19,
      "outputs": []
    },
    {
      "cell_type": "code",
      "source": [
        "#!wget -q https://dlcdn.apache.org/spark/spark-3.3.0/spark-3.3.0-bin-hadoop3.tgz"
      ],
      "metadata": {
        "id": "f8-Lw8-rTyO4"
      },
      "execution_count": 20,
      "outputs": []
    },
    {
      "cell_type": "code",
      "source": [
        "#!tar xf spark-3.3.0-bin-hadoop3.tgz"
      ],
      "metadata": {
        "id": "kmmBygZVT9L1"
      },
      "execution_count": 21,
      "outputs": []
    },
    {
      "cell_type": "code",
      "source": [
        "#!pip install -q findspark\n",
        "#!pip install pyspark"
      ],
      "metadata": {
        "id": "w281n5-nUN7S"
      },
      "execution_count": 22,
      "outputs": []
    },
    {
      "cell_type": "code",
      "source": [
        "from pyspark import SparkContext"
      ],
      "metadata": {
        "id": "oENtkY0DU5Je"
      },
      "execution_count": 23,
      "outputs": []
    },
    {
      "cell_type": "code",
      "source": [
        "sc=SparkContext()"
      ],
      "metadata": {
        "id": "uRVRThrMVvcD"
      },
      "execution_count": 24,
      "outputs": []
    },
    {
      "cell_type": "code",
      "source": [
        "a=sc.parallelize([1,2,3])"
      ],
      "metadata": {
        "id": "M8MmNGiBVjOQ"
      },
      "execution_count": 25,
      "outputs": []
    },
    {
      "cell_type": "code",
      "source": [
        "a.take(2)"
      ],
      "metadata": {
        "colab": {
          "base_uri": "https://localhost:8080/"
        },
        "id": "XmOJiLfsWXzu",
        "outputId": "f4c52689-f802-4079-8099-7f44de93a414"
      },
      "execution_count": 26,
      "outputs": [
        {
          "output_type": "execute_result",
          "data": {
            "text/plain": [
              "[1, 2]"
            ]
          },
          "metadata": {},
          "execution_count": 26
        }
      ]
    },
    {
      "cell_type": "code",
      "source": [
        "sc.stop()"
      ],
      "metadata": {
        "id": "uc5nIFyuWi3Y"
      },
      "execution_count": 27,
      "outputs": []
    },
    {
      "cell_type": "code",
      "source": [
        "import findspark\n",
        "findspark.init()\n",
        "\n",
        "from pyspark.sql import SparkSession\n",
        "\n",
        "retails_data_csv = \"/content/drive/MyDrive/data/retail-data/by-day/*.csv\""
      ],
      "metadata": {
        "id": "UCQq5Kj1W-Cx"
      },
      "execution_count": 28,
      "outputs": []
    },
    {
      "cell_type": "code",
      "source": [
        "spark = SparkSession \\\n",
        "    .builder \\\n",
        "    .appName(\"Basic Dataframe Operations\") \\\n",
        "    .config(\"spark.master\", \"local\") \\\n",
        "    .getOrCreate()"
      ],
      "metadata": {
        "id": "eXHZBnchW9_U"
      },
      "execution_count": 29,
      "outputs": []
    },
    {
      "cell_type": "code",
      "source": [
        "df = spark.read.format(\"csv\")\\\n",
        "  .option(\"header\", \"true\")\\\n",
        "  .option(\"inferSchema\", \"true\")\\\n",
        "  .load(retails_data_csv)\\\n",
        "  .repartition(5)"
      ],
      "metadata": {
        "id": "fJ7uwjHnW9sV"
      },
      "execution_count": 30,
      "outputs": []
    },
    {
      "cell_type": "code",
      "source": [
        "df.show()"
      ],
      "metadata": {
        "colab": {
          "base_uri": "https://localhost:8080/"
        },
        "id": "ZPd57GXLXYvL",
        "outputId": "dade3884-a854-406e-e9d9-7d6d124f268a"
      },
      "execution_count": 31,
      "outputs": [
        {
          "output_type": "stream",
          "name": "stdout",
          "text": [
            "+---------+---------+--------------------+--------+-------------------+---------+----------+--------------+\n",
            "|InvoiceNo|StockCode|         Description|Quantity|        InvoiceDate|UnitPrice|CustomerID|       Country|\n",
            "+---------+---------+--------------------+--------+-------------------+---------+----------+--------------+\n",
            "|   580729|    22492|MINI PAINT SET VI...|       1|2011-12-05 17:24:00|     1.63|      null|United Kingdom|\n",
            "|   575070|    21756|BATH BUILDING BLO...|       1|2011-11-08 12:58:00|     6.25|   17841.0|United Kingdom|\n",
            "|   574573|    22945|CHRISTMAS METAL T...|       6|2011-11-04 16:35:00|     0.85|   14592.0|United Kingdom|\n",
            "|   575911|    35970|ZINC FOLKART SLEI...|      24|2011-11-11 16:13:00|     1.69|   17314.0|United Kingdom|\n",
            "|   576559|    22360|GLASS JAR ENGLISH...|       1|2011-11-15 13:19:00|     2.95|   14711.0|United Kingdom|\n",
            "|   569900|    35970|ZINC FOLKART SLEI...|      12|2011-10-06 16:17:00|     1.69|   17651.0|United Kingdom|\n",
            "|   539453|    21365|MIRRORED WALL ART...|       1|2010-12-17 17:08:00|     5.91|      null|United Kingdom|\n",
            "|   580959|    22419|    LIPSTICK PEN RED|      12|2011-12-06 14:31:00|     0.42|   14673.0|United Kingdom|\n",
            "|   578757|    20669|RED HEART LUGGAGE...|       1|2011-11-25 11:41:00|     1.25|   12748.0|United Kingdom|\n",
            "|   577938|    22975|SPACEBOY CHILDREN...|      12|2011-11-22 12:07:00|     1.25|   15525.0|United Kingdom|\n",
            "|   580543|    21165|BEWARE OF THE CAT...|      24|2011-12-05 09:11:00|     1.69|   18223.0|United Kingdom|\n",
            "|   580612|    22698|PINK REGENCY TEAC...|       7|2011-12-05 11:58:00|     5.79|      null|United Kingdom|\n",
            "|   575960|    23298|      SPOTTY BUNTING|       1|2011-11-13 12:28:00|     4.95|   15429.0|United Kingdom|\n",
            "|   537435|    22151|PLACE SETTING WHI...|      10|2010-12-06 16:58:00|     0.42|   17920.0|United Kingdom|\n",
            "|   576339|    23228|FILIGREE HEART BI...|       1|2011-11-14 15:27:00|     2.46|   14096.0|United Kingdom|\n",
            "|   578270|    20961|STRAWBERRY BATH S...|       3|2011-11-23 13:39:00|     2.46|   14096.0|United Kingdom|\n",
            "|   537240|    21169|YOU'RE CONFUSING ...|       2|2010-12-06 10:08:00|     4.21|      null|United Kingdom|\n",
            "|   579777|    21731|RED TOADSTOOL LED...|       3|2011-11-30 15:13:00|     3.29|      null|United Kingdom|\n",
            "|   578814|    22493|PAINT YOUR OWN CA...|       2|2011-11-25 13:40:00|     1.65|   12748.0|United Kingdom|\n",
            "|   576071|    22156|HEART DECORATION ...|       3|2011-11-13 16:03:00|     0.85|   18069.0|United Kingdom|\n",
            "+---------+---------+--------------------+--------+-------------------+---------+----------+--------------+\n",
            "only showing top 20 rows\n",
            "\n"
          ]
        }
      ]
    },
    {
      "cell_type": "code",
      "source": [
        "df.rdd.getNumPartitions()"
      ],
      "metadata": {
        "colab": {
          "base_uri": "https://localhost:8080/"
        },
        "id": "lV0ByxEEXYi_",
        "outputId": "5052a13d-6d8a-4b83-e660-594947f5b934"
      },
      "execution_count": 32,
      "outputs": [
        {
          "output_type": "execute_result",
          "data": {
            "text/plain": [
              "5"
            ]
          },
          "metadata": {},
          "execution_count": 32
        }
      ]
    },
    {
      "cell_type": "code",
      "source": [
        "#sql table\n",
        "df.createOrReplaceTempView(\"dfTable\")"
      ],
      "metadata": {
        "id": "QtoXTefzbVKR"
      },
      "execution_count": 33,
      "outputs": []
    },
    {
      "cell_type": "code",
      "source": [
        "from pyspark.sql.functions import count, countDistinct, approx_count_distinct\n",
        "df.select(count(\"StockCode\")).show()"
      ],
      "metadata": {
        "colab": {
          "base_uri": "https://localhost:8080/"
        },
        "id": "41Mu67o2Yuvs",
        "outputId": "36c1e31b-798e-431e-dbb2-b3ef0f96f19e"
      },
      "execution_count": 34,
      "outputs": [
        {
          "output_type": "stream",
          "name": "stdout",
          "text": [
            "+----------------+\n",
            "|count(StockCode)|\n",
            "+----------------+\n",
            "|          541909|\n",
            "+----------------+\n",
            "\n"
          ]
        }
      ]
    },
    {
      "cell_type": "code",
      "source": [
        "df.groupBy(\"StockCode\").count().show()"
      ],
      "metadata": {
        "colab": {
          "base_uri": "https://localhost:8080/"
        },
        "id": "WpbVEbsfYulp",
        "outputId": "1296bc29-2e6a-4ee3-e58a-e09cb18b4cd4"
      },
      "execution_count": 35,
      "outputs": [
        {
          "output_type": "stream",
          "name": "stdout",
          "text": [
            "+---------+-----+\n",
            "|StockCode|count|\n",
            "+---------+-----+\n",
            "|    22596|  274|\n",
            "|    21249|  119|\n",
            "|    21894|  135|\n",
            "|    22121|  141|\n",
            "|    23318|  391|\n",
            "|    20868|   46|\n",
            "|    22728|  810|\n",
            "|    23459|   21|\n",
            "|    90022|   21|\n",
            "|    22254|   61|\n",
            "|    21259|  296|\n",
            "|    21452|  200|\n",
            "|   90210B|    7|\n",
            "|    90143|   22|\n",
            "|   90197B|   27|\n",
            "|    21248|   68|\n",
            "|    21889|  607|\n",
            "|   85132b|    9|\n",
            "|    21331|    8|\n",
            "|   85115B|    1|\n",
            "+---------+-----+\n",
            "only showing top 20 rows\n",
            "\n"
          ]
        }
      ]
    },
    {
      "cell_type": "code",
      "source": [
        "df.select(countDistinct(\"StockCode\")).show()"
      ],
      "metadata": {
        "colab": {
          "base_uri": "https://localhost:8080/"
        },
        "id": "3fGKDTqKYujP",
        "outputId": "bc0aa9d5-3ff4-44e8-cbf6-24025f1b5852"
      },
      "execution_count": 36,
      "outputs": [
        {
          "output_type": "stream",
          "name": "stdout",
          "text": [
            "+-------------------------+\n",
            "|count(DISTINCT StockCode)|\n",
            "+-------------------------+\n",
            "|                     4070|\n",
            "+-------------------------+\n",
            "\n"
          ]
        }
      ]
    },
    {
      "cell_type": "code",
      "source": [
        "df.select(approx_count_distinct(\"StockCode\", 0.1)).show()"
      ],
      "metadata": {
        "colab": {
          "base_uri": "https://localhost:8080/"
        },
        "id": "oeKVBHxtYugz",
        "outputId": "ef49187a-dfb8-4983-8fd2-3fec3185cb09"
      },
      "execution_count": 37,
      "outputs": [
        {
          "output_type": "stream",
          "name": "stdout",
          "text": [
            "+--------------------------------+\n",
            "|approx_count_distinct(StockCode)|\n",
            "+--------------------------------+\n",
            "|                            3364|\n",
            "+--------------------------------+\n",
            "\n"
          ]
        }
      ]
    },
    {
      "cell_type": "code",
      "source": [
        "spark.sql(\"\"\"SELECT count(StockCode),\n",
        "                    approx_count_distinct(StockCode)\n",
        "             FROM dfTable\"\"\").show()"
      ],
      "metadata": {
        "colab": {
          "base_uri": "https://localhost:8080/"
        },
        "id": "IcskLMa_YueD",
        "outputId": "862ed2c7-8c9c-447f-b4ff-692a8e221b2c"
      },
      "execution_count": 38,
      "outputs": [
        {
          "output_type": "stream",
          "name": "stdout",
          "text": [
            "+----------------+--------------------------------+\n",
            "|count(StockCode)|approx_count_distinct(StockCode)|\n",
            "+----------------+--------------------------------+\n",
            "|          541909|                            3804|\n",
            "+----------------+--------------------------------+\n",
            "\n"
          ]
        }
      ]
    },
    {
      "cell_type": "code",
      "source": [
        "sqlc=\"SELECT count(StockCode), approx_count_distinct(StockCode)  FROM dfTable\"\n",
        "spark.sql(sqlc).show()"
      ],
      "metadata": {
        "colab": {
          "base_uri": "https://localhost:8080/"
        },
        "id": "S4fLEMtrYuax",
        "outputId": "4bd5fe3b-a400-4d0d-cba3-24386d52a7fa"
      },
      "execution_count": 39,
      "outputs": [
        {
          "output_type": "stream",
          "name": "stdout",
          "text": [
            "+----------------+--------------------------------+\n",
            "|count(StockCode)|approx_count_distinct(StockCode)|\n",
            "+----------------+--------------------------------+\n",
            "|          541909|                            3804|\n",
            "+----------------+--------------------------------+\n",
            "\n"
          ]
        }
      ]
    },
    {
      "cell_type": "code",
      "source": [
        "#  Example 2 - first, last, min, max\n",
        "from pyspark.sql.functions import first, last, min, max"
      ],
      "metadata": {
        "id": "3dJ8EuAMbhgS"
      },
      "execution_count": 40,
      "outputs": []
    },
    {
      "cell_type": "code",
      "source": [
        "df.select(first(\"StockCode\"), last(\"StockCode\")).show()"
      ],
      "metadata": {
        "colab": {
          "base_uri": "https://localhost:8080/"
        },
        "id": "X8kfT3kucTwY",
        "outputId": "600cf15c-3479-4e46-df9e-d6e15482f829"
      },
      "execution_count": 41,
      "outputs": [
        {
          "output_type": "stream",
          "name": "stdout",
          "text": [
            "+----------------+---------------+\n",
            "|first(StockCode)|last(StockCode)|\n",
            "+----------------+---------------+\n",
            "|           22148|          21201|\n",
            "+----------------+---------------+\n",
            "\n"
          ]
        }
      ]
    },
    {
      "cell_type": "code",
      "source": [
        "df.select(min(\"Quantity\"), max(\"Quantity\")).show()"
      ],
      "metadata": {
        "colab": {
          "base_uri": "https://localhost:8080/"
        },
        "id": "0kRPZWlhcmaV",
        "outputId": "95666ed9-2a27-47bd-e35a-3eb102153bbc"
      },
      "execution_count": 42,
      "outputs": [
        {
          "output_type": "stream",
          "name": "stdout",
          "text": [
            "+-------------+-------------+\n",
            "|min(Quantity)|max(Quantity)|\n",
            "+-------------+-------------+\n",
            "|       -80995|        80995|\n",
            "+-------------+-------------+\n",
            "\n"
          ]
        }
      ]
    },
    {
      "cell_type": "code",
      "source": [
        "spark.sql(\"\"\"SELECT first(StockCode) as first, \n",
        "                    last(StockCode) as last,\n",
        "                    min(Quantity)  as minQty,\n",
        "                    max(Quantity) as maxQty\n",
        "             FROM dfTable\"\"\").show()"
      ],
      "metadata": {
        "colab": {
          "base_uri": "https://localhost:8080/"
        },
        "id": "D8yr6iZ2cvMr",
        "outputId": "eb37e690-7f31-4b8c-cdf5-8d31f651bb8d"
      },
      "execution_count": 43,
      "outputs": [
        {
          "output_type": "stream",
          "name": "stdout",
          "text": [
            "+-----+-----+------+------+\n",
            "|first| last|minQty|maxQty|\n",
            "+-----+-----+------+------+\n",
            "|22578|22641|-80995| 80995|\n",
            "+-----+-----+------+------+\n",
            "\n"
          ]
        }
      ]
    },
    {
      "cell_type": "code",
      "source": [
        "#  Example 3 - sum, sumDistinct, avg\n",
        "from pyspark.sql.functions import sum, sumDistinct, avg"
      ],
      "metadata": {
        "id": "38_2wEn9c0av"
      },
      "execution_count": 44,
      "outputs": []
    },
    {
      "cell_type": "code",
      "source": [
        "df.select(sum(\"Quantity\")).show() "
      ],
      "metadata": {
        "colab": {
          "base_uri": "https://localhost:8080/"
        },
        "id": "rz1PokJedacO",
        "outputId": "08bb993f-2cc0-48ce-8b27-c3ade723f599"
      },
      "execution_count": 45,
      "outputs": [
        {
          "output_type": "stream",
          "name": "stdout",
          "text": [
            "+-------------+\n",
            "|sum(Quantity)|\n",
            "+-------------+\n",
            "|      5176450|\n",
            "+-------------+\n",
            "\n"
          ]
        }
      ]
    },
    {
      "cell_type": "code",
      "source": [
        "df.select(sumDistinct(\"Quantity\")).show()"
      ],
      "metadata": {
        "colab": {
          "base_uri": "https://localhost:8080/"
        },
        "id": "C2nkIfDDdmLA",
        "outputId": "9ca82cb1-c17a-4b5a-859f-6095d1440d60"
      },
      "execution_count": 46,
      "outputs": [
        {
          "output_type": "stream",
          "name": "stderr",
          "text": [
            "/usr/local/lib/python3.7/dist-packages/pyspark/sql/functions.py:315: FutureWarning: Deprecated in 3.2, use sum_distinct instead.\n",
            "  warnings.warn(\"Deprecated in 3.2, use sum_distinct instead.\", FutureWarning)\n"
          ]
        },
        {
          "output_type": "stream",
          "name": "stdout",
          "text": [
            "+----------------------+\n",
            "|sum(DISTINCT Quantity)|\n",
            "+----------------------+\n",
            "|                 29310|\n",
            "+----------------------+\n",
            "\n"
          ]
        }
      ]
    },
    {
      "cell_type": "code",
      "source": [
        "spark.sql(\"\"\"SELECT sum(Quantity)  as sumQty, \n",
        "                    mean(Quantity) as mean\n",
        "             FROM dfTable\"\"\").show() "
      ],
      "metadata": {
        "colab": {
          "base_uri": "https://localhost:8080/"
        },
        "id": "YJEaWz5-dmHa",
        "outputId": "6419f6f4-efdd-48fb-a948-4128776472eb"
      },
      "execution_count": 47,
      "outputs": [
        {
          "output_type": "stream",
          "name": "stdout",
          "text": [
            "+-------+----------------+\n",
            "| sumQty|            mean|\n",
            "+-------+----------------+\n",
            "|5176450|9.55224954743324|\n",
            "+-------+----------------+\n",
            "\n"
          ]
        }
      ]
    },
    {
      "cell_type": "code",
      "source": [
        "from pyspark.sql.functions import mean, expr "
      ],
      "metadata": {
        "id": "CwZCzVm8dmDq"
      },
      "execution_count": 48,
      "outputs": []
    },
    {
      "cell_type": "code",
      "source": [
        "df.select(\n",
        "  count(\"Quantity\").alias(\"total_transactions\"),\n",
        "  sum(\"Quantity\").alias(\"total_purchases\"),\n",
        "  avg(\"Quantity\").alias(\"avg_purchases\"),\n",
        "  expr(\"mean(Quantity)\").alias(\"mean_purchases\")) \\\n",
        ".selectExpr(\n",
        "  \"total_purchases/total_transactions\",\n",
        "  \"avg_purchases\",\n",
        "  \"mean_purchases\").show()"
      ],
      "metadata": {
        "id": "UMd2xY2rdl-3",
        "colab": {
          "base_uri": "https://localhost:8080/"
        },
        "outputId": "df3ba3a7-4139-4051-ad02-ecc0ecb3e7a2"
      },
      "execution_count": 49,
      "outputs": [
        {
          "output_type": "stream",
          "name": "stdout",
          "text": [
            "+--------------------------------------+----------------+----------------+\n",
            "|(total_purchases / total_transactions)|   avg_purchases|  mean_purchases|\n",
            "+--------------------------------------+----------------+----------------+\n",
            "|                      9.55224954743324|9.55224954743324|9.55224954743324|\n",
            "+--------------------------------------+----------------+----------------+\n",
            "\n"
          ]
        }
      ]
    },
    {
      "cell_type": "code",
      "source": [
        "# Example 4 - varience and standard deviation\n",
        "from pyspark.sql.functions import var_pop, stddev_pop, variance, stddev\n",
        "from pyspark.sql.functions import var_samp, stddev_samp"
      ],
      "metadata": {
        "id": "X7Ky4Rbfdl8k"
      },
      "execution_count": 51,
      "outputs": []
    },
    {
      "cell_type": "code",
      "source": [
        "df.select(variance(\"Quantity\"), stddev(\"Quantity\"),\n",
        "  var_pop(\"Quantity\"), var_samp(\"Quantity\"),\n",
        "  stddev_pop(\"Quantity\"), stddev_samp(\"Quantity\")).show()"
      ],
      "metadata": {
        "id": "nDfuJ0aZdl6I",
        "colab": {
          "base_uri": "https://localhost:8080/"
        },
        "outputId": "65755064-9ee4-4c81-ba20-375771385d22"
      },
      "execution_count": 52,
      "outputs": [
        {
          "output_type": "stream",
          "name": "stdout",
          "text": [
            "+------------------+---------------------+-----------------+------------------+--------------------+---------------------+\n",
            "|var_samp(Quantity)|stddev_samp(Quantity)|var_pop(Quantity)|var_samp(Quantity)|stddev_pop(Quantity)|stddev_samp(Quantity)|\n",
            "+------------------+---------------------+-----------------+------------------+--------------------+---------------------+\n",
            "| 47559.39140929852|   218.08115785023364|47559.30364660883| 47559.39140929852|  218.08095663447745|   218.08115785023364|\n",
            "+------------------+---------------------+-----------------+------------------+--------------------+---------------------+\n",
            "\n"
          ]
        }
      ]
    },
    {
      "cell_type": "code",
      "source": [
        "spark.sql(\"\"\"SELECT var_pop(Quantity), \n",
        "                    var_samp(Quantity),\n",
        "                    stddev_pop(Quantity), \n",
        "                    stddev_samp(Quantity)\n",
        "             FROM dfTable\"\"\").show()"
      ],
      "metadata": {
        "id": "TUMdRVrwdl33",
        "colab": {
          "base_uri": "https://localhost:8080/"
        },
        "outputId": "673177b2-7d31-4acd-ecd9-de75bf720712"
      },
      "execution_count": 53,
      "outputs": [
        {
          "output_type": "stream",
          "name": "stdout",
          "text": [
            "+-----------------+------------------+--------------------+---------------------+\n",
            "|var_pop(Quantity)|var_samp(Quantity)|stddev_pop(Quantity)|stddev_samp(Quantity)|\n",
            "+-----------------+------------------+--------------------+---------------------+\n",
            "|47559.30364660883| 47559.39140929852|  218.08095663447745|   218.08115785023364|\n",
            "+-----------------+------------------+--------------------+---------------------+\n",
            "\n"
          ]
        }
      ]
    },
    {
      "cell_type": "code",
      "source": [
        "# Example 5 - skewness & kurtosis\n",
        "from pyspark.sql.functions import skewness, kurtosis"
      ],
      "metadata": {
        "id": "DdvZy6cfdl1k"
      },
      "execution_count": 55,
      "outputs": []
    },
    {
      "cell_type": "code",
      "source": [
        "df.select(skewness(\"Quantity\"), kurtosis(\"Quantity\")).show()  "
      ],
      "metadata": {
        "id": "2ZbL_MIjdly8",
        "colab": {
          "base_uri": "https://localhost:8080/"
        },
        "outputId": "75d620e0-6695-4cc8-e928-6a78f78e1910"
      },
      "execution_count": 56,
      "outputs": [
        {
          "output_type": "stream",
          "name": "stdout",
          "text": [
            "+--------------------+------------------+\n",
            "|  skewness(Quantity)|kurtosis(Quantity)|\n",
            "+--------------------+------------------+\n",
            "|-0.26407557610430366|119768.05495533711|\n",
            "+--------------------+------------------+\n",
            "\n"
          ]
        }
      ]
    },
    {
      "cell_type": "code",
      "source": [
        "spark.sql(\"SELECT skewness(Quantity), kurtosis(Quantity) FROM dfTable\").show()"
      ],
      "metadata": {
        "id": "DkahG2xqdlwW",
        "colab": {
          "base_uri": "https://localhost:8080/"
        },
        "outputId": "d45ac949-25bf-4e6d-9a07-76060361123a"
      },
      "execution_count": 57,
      "outputs": [
        {
          "output_type": "stream",
          "name": "stdout",
          "text": [
            "+--------------------+------------------+\n",
            "|  skewness(Quantity)|kurtosis(Quantity)|\n",
            "+--------------------+------------------+\n",
            "|-0.26407557610430366|119768.05495533711|\n",
            "+--------------------+------------------+\n",
            "\n"
          ]
        }
      ]
    },
    {
      "cell_type": "code",
      "source": [
        "# Example 6 - Covariance and Correlation\n",
        "from pyspark.sql.functions import corr, covar_pop, covar_samp"
      ],
      "metadata": {
        "id": "K_iAH_QwdluC"
      },
      "execution_count": 58,
      "outputs": []
    },
    {
      "cell_type": "code",
      "source": [
        "df.select(corr(\"InvoiceNo\", \"Quantity\"), covar_samp(\"InvoiceNo\", \"Quantity\"),\n",
        "    covar_pop(\"InvoiceNo\", \"Quantity\")).show()"
      ],
      "metadata": {
        "id": "sK7IUXSxdlrH",
        "colab": {
          "base_uri": "https://localhost:8080/"
        },
        "outputId": "53a8a080-437b-4b3f-cc8f-65bfa688d85d"
      },
      "execution_count": 59,
      "outputs": [
        {
          "output_type": "stream",
          "name": "stdout",
          "text": [
            "+-------------------------+-------------------------------+------------------------------+\n",
            "|corr(InvoiceNo, Quantity)|covar_samp(InvoiceNo, Quantity)|covar_pop(InvoiceNo, Quantity)|\n",
            "+-------------------------+-------------------------------+------------------------------+\n",
            "|     4.912186085633174E-4|             1052.7280543896418|            1052.7260778735376|\n",
            "+-------------------------+-------------------------------+------------------------------+\n",
            "\n"
          ]
        }
      ]
    },
    {
      "cell_type": "code",
      "source": [
        "spark.sql(\"\"\"SELECT corr(InvoiceNo, Quantity), \n",
        "                        covar_samp(InvoiceNo, Quantity),\n",
        "                        covar_pop(InvoiceNo, Quantity)\n",
        "                  FROM dfTable\"\"\").show()"
      ],
      "metadata": {
        "id": "VExfqsCRdlom",
        "colab": {
          "base_uri": "https://localhost:8080/"
        },
        "outputId": "765834df-63d9-4bd6-8d40-f2e50f9e2e5b"
      },
      "execution_count": 60,
      "outputs": [
        {
          "output_type": "stream",
          "name": "stdout",
          "text": [
            "+-------------------------+-------------------------------+------------------------------+\n",
            "|corr(InvoiceNo, Quantity)|covar_samp(InvoiceNo, Quantity)|covar_pop(InvoiceNo, Quantity)|\n",
            "+-------------------------+-------------------------------+------------------------------+\n",
            "|     4.912186085633174E-4|             1052.7280543896418|            1052.7260778735376|\n",
            "+-------------------------+-------------------------------+------------------------------+\n",
            "\n"
          ]
        }
      ]
    },
    {
      "cell_type": "code",
      "source": [
        "#- Example 7 - Aggregation on Collections\n",
        "from pyspark.sql.functions import collect_set, collect_list"
      ],
      "metadata": {
        "id": "rsi9JXW6dlmO"
      },
      "execution_count": 61,
      "outputs": []
    },
    {
      "cell_type": "code",
      "source": [],
      "metadata": {
        "id": "JecDY4Pydljk"
      },
      "execution_count": 49,
      "outputs": []
    },
    {
      "cell_type": "code",
      "source": [],
      "metadata": {
        "id": "nbzAXhwUdlhB"
      },
      "execution_count": 49,
      "outputs": []
    },
    {
      "cell_type": "code",
      "source": [],
      "metadata": {
        "id": "LvqaLDxWdlen"
      },
      "execution_count": 49,
      "outputs": []
    },
    {
      "cell_type": "code",
      "source": [],
      "metadata": {
        "id": "LBTCxx3Mdlbm"
      },
      "execution_count": 49,
      "outputs": []
    },
    {
      "cell_type": "code",
      "source": [],
      "metadata": {
        "id": "1rU2ub0ldlZD"
      },
      "execution_count": 49,
      "outputs": []
    },
    {
      "cell_type": "code",
      "source": [],
      "metadata": {
        "id": "-AGsMi0DdlWj"
      },
      "execution_count": 49,
      "outputs": []
    },
    {
      "cell_type": "code",
      "source": [],
      "metadata": {
        "id": "nCiIFLCIdlT2"
      },
      "execution_count": 49,
      "outputs": []
    },
    {
      "cell_type": "code",
      "source": [],
      "metadata": {
        "id": "qlA97dW3dlPs"
      },
      "execution_count": 49,
      "outputs": []
    },
    {
      "cell_type": "code",
      "source": [],
      "metadata": {
        "id": "qecM-HPgdlNP"
      },
      "execution_count": 49,
      "outputs": []
    },
    {
      "cell_type": "code",
      "source": [],
      "metadata": {
        "id": "vphF4zQAdlJD"
      },
      "execution_count": 49,
      "outputs": []
    },
    {
      "cell_type": "code",
      "source": [],
      "metadata": {
        "id": "HFyf8byGdlDo"
      },
      "execution_count": 49,
      "outputs": []
    },
    {
      "cell_type": "code",
      "source": [],
      "metadata": {
        "id": "5afl0L4udk7z"
      },
      "execution_count": 49,
      "outputs": []
    },
    {
      "cell_type": "code",
      "source": [],
      "metadata": {
        "id": "B_k3X4_idkwM"
      },
      "execution_count": 49,
      "outputs": []
    },
    {
      "cell_type": "code",
      "source": [],
      "metadata": {
        "id": "Dp1ghzX8dkde"
      },
      "execution_count": 49,
      "outputs": []
    },
    {
      "cell_type": "code",
      "source": [],
      "metadata": {
        "id": "pSJd6-ZrdkIq"
      },
      "execution_count": 49,
      "outputs": []
    },
    {
      "cell_type": "code",
      "source": [],
      "metadata": {
        "id": "Hd9Ik59QdkFO"
      },
      "execution_count": 49,
      "outputs": []
    }
  ]
}